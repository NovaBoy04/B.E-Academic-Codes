{
 "cells": [
  {
   "cell_type": "code",
   "execution_count": 1,
   "id": "10adb3f6",
   "metadata": {
    "_cell_guid": "b1076dfc-b9ad-4769-8c92-a6c4dae69d19",
    "_uuid": "8f2839f25d086af736a60e9eeb907d3b93b6e0e5",
    "execution": {
     "iopub.execute_input": "2022-09-23T08:15:58.437059Z",
     "iopub.status.busy": "2022-09-23T08:15:58.436519Z",
     "iopub.status.idle": "2022-09-23T08:15:59.899291Z",
     "shell.execute_reply": "2022-09-23T08:15:59.897968Z"
    },
    "papermill": {
     "duration": 1.472263,
     "end_time": "2022-09-23T08:15:59.902172",
     "exception": false,
     "start_time": "2022-09-23T08:15:58.429909",
     "status": "completed"
    },
    "tags": []
   },
   "outputs": [],
   "source": [
    "import numpy as np\n",
    "import pandas as pd\n",
    "from sklearn.model_selection import train_test_split\n",
    "from sklearn.neighbors import KNeighborsClassifier\n",
    "from sklearn.metrics import confusion_matrix, accuracy_score, recall_score, mean_absolute_error, precision_score, f1_score"
   ]
  },
  {
   "cell_type": "code",
   "execution_count": 2,
   "id": "dfb7b8c2",
   "metadata": {
    "execution": {
     "iopub.execute_input": "2022-09-23T08:15:59.911552Z",
     "iopub.status.busy": "2022-09-23T08:15:59.911112Z",
     "iopub.status.idle": "2022-09-23T08:15:59.953316Z",
     "shell.execute_reply": "2022-09-23T08:15:59.952121Z"
    },
    "papermill": {
     "duration": 0.049616,
     "end_time": "2022-09-23T08:15:59.955740",
     "exception": false,
     "start_time": "2022-09-23T08:15:59.906124",
     "status": "completed"
    },
    "tags": []
   },
   "outputs": [
    {
     "data": {
      "text/html": [
       "<div>\n",
       "<style scoped>\n",
       "    .dataframe tbody tr th:only-of-type {\n",
       "        vertical-align: middle;\n",
       "    }\n",
       "\n",
       "    .dataframe tbody tr th {\n",
       "        vertical-align: top;\n",
       "    }\n",
       "\n",
       "    .dataframe thead th {\n",
       "        text-align: right;\n",
       "    }\n",
       "</style>\n",
       "<table border=\"1\" class=\"dataframe\">\n",
       "  <thead>\n",
       "    <tr style=\"text-align: right;\">\n",
       "      <th></th>\n",
       "      <th>Pregnancies</th>\n",
       "      <th>Glucose</th>\n",
       "      <th>BloodPressure</th>\n",
       "      <th>SkinThickness</th>\n",
       "      <th>Insulin</th>\n",
       "      <th>BMI</th>\n",
       "      <th>Pedigree</th>\n",
       "      <th>Age</th>\n",
       "      <th>Outcome</th>\n",
       "    </tr>\n",
       "  </thead>\n",
       "  <tbody>\n",
       "    <tr>\n",
       "      <th>0</th>\n",
       "      <td>6</td>\n",
       "      <td>148</td>\n",
       "      <td>72</td>\n",
       "      <td>35</td>\n",
       "      <td>0</td>\n",
       "      <td>33.6</td>\n",
       "      <td>0.627</td>\n",
       "      <td>50</td>\n",
       "      <td>1</td>\n",
       "    </tr>\n",
       "    <tr>\n",
       "      <th>1</th>\n",
       "      <td>1</td>\n",
       "      <td>85</td>\n",
       "      <td>66</td>\n",
       "      <td>29</td>\n",
       "      <td>0</td>\n",
       "      <td>26.6</td>\n",
       "      <td>0.351</td>\n",
       "      <td>31</td>\n",
       "      <td>0</td>\n",
       "    </tr>\n",
       "    <tr>\n",
       "      <th>2</th>\n",
       "      <td>8</td>\n",
       "      <td>183</td>\n",
       "      <td>64</td>\n",
       "      <td>0</td>\n",
       "      <td>0</td>\n",
       "      <td>23.3</td>\n",
       "      <td>0.672</td>\n",
       "      <td>32</td>\n",
       "      <td>1</td>\n",
       "    </tr>\n",
       "    <tr>\n",
       "      <th>3</th>\n",
       "      <td>1</td>\n",
       "      <td>89</td>\n",
       "      <td>66</td>\n",
       "      <td>23</td>\n",
       "      <td>94</td>\n",
       "      <td>28.1</td>\n",
       "      <td>0.167</td>\n",
       "      <td>21</td>\n",
       "      <td>0</td>\n",
       "    </tr>\n",
       "    <tr>\n",
       "      <th>4</th>\n",
       "      <td>0</td>\n",
       "      <td>137</td>\n",
       "      <td>40</td>\n",
       "      <td>35</td>\n",
       "      <td>168</td>\n",
       "      <td>43.1</td>\n",
       "      <td>2.288</td>\n",
       "      <td>33</td>\n",
       "      <td>1</td>\n",
       "    </tr>\n",
       "  </tbody>\n",
       "</table>\n",
       "</div>"
      ],
      "text/plain": [
       "   Pregnancies  Glucose  BloodPressure  SkinThickness  Insulin   BMI  \\\n",
       "0            6      148             72             35        0  33.6   \n",
       "1            1       85             66             29        0  26.6   \n",
       "2            8      183             64              0        0  23.3   \n",
       "3            1       89             66             23       94  28.1   \n",
       "4            0      137             40             35      168  43.1   \n",
       "\n",
       "   Pedigree  Age  Outcome  \n",
       "0     0.627   50        1  \n",
       "1     0.351   31        0  \n",
       "2     0.672   32        1  \n",
       "3     0.167   21        0  \n",
       "4     2.288   33        1  "
      ]
     },
     "execution_count": 2,
     "metadata": {},
     "output_type": "execute_result"
    }
   ],
   "source": [
    "df = pd.read_csv('../input/diabetes/diabetes.csv')\n",
    "df.head()"
   ]
  },
  {
   "cell_type": "code",
   "execution_count": 3,
   "id": "b429a985",
   "metadata": {
    "execution": {
     "iopub.execute_input": "2022-09-23T08:15:59.967239Z",
     "iopub.status.busy": "2022-09-23T08:15:59.965726Z",
     "iopub.status.idle": "2022-09-23T08:16:00.020621Z",
     "shell.execute_reply": "2022-09-23T08:16:00.019686Z"
    },
    "papermill": {
     "duration": 0.063421,
     "end_time": "2022-09-23T08:16:00.023314",
     "exception": false,
     "start_time": "2022-09-23T08:15:59.959893",
     "status": "completed"
    },
    "tags": []
   },
   "outputs": [
    {
     "data": {
      "text/html": [
       "<div>\n",
       "<style scoped>\n",
       "    .dataframe tbody tr th:only-of-type {\n",
       "        vertical-align: middle;\n",
       "    }\n",
       "\n",
       "    .dataframe tbody tr th {\n",
       "        vertical-align: top;\n",
       "    }\n",
       "\n",
       "    .dataframe thead th {\n",
       "        text-align: right;\n",
       "    }\n",
       "</style>\n",
       "<table border=\"1\" class=\"dataframe\">\n",
       "  <thead>\n",
       "    <tr style=\"text-align: right;\">\n",
       "      <th></th>\n",
       "      <th>Pregnancies</th>\n",
       "      <th>Glucose</th>\n",
       "      <th>BloodPressure</th>\n",
       "      <th>SkinThickness</th>\n",
       "      <th>Insulin</th>\n",
       "      <th>BMI</th>\n",
       "      <th>Pedigree</th>\n",
       "      <th>Age</th>\n",
       "      <th>Outcome</th>\n",
       "    </tr>\n",
       "  </thead>\n",
       "  <tbody>\n",
       "    <tr>\n",
       "      <th>count</th>\n",
       "      <td>768.000000</td>\n",
       "      <td>768.000000</td>\n",
       "      <td>768.000000</td>\n",
       "      <td>768.000000</td>\n",
       "      <td>768.000000</td>\n",
       "      <td>768.000000</td>\n",
       "      <td>768.000000</td>\n",
       "      <td>768.000000</td>\n",
       "      <td>768.000000</td>\n",
       "    </tr>\n",
       "    <tr>\n",
       "      <th>mean</th>\n",
       "      <td>3.845052</td>\n",
       "      <td>120.894531</td>\n",
       "      <td>69.105469</td>\n",
       "      <td>20.536458</td>\n",
       "      <td>79.799479</td>\n",
       "      <td>31.992578</td>\n",
       "      <td>0.471876</td>\n",
       "      <td>33.240885</td>\n",
       "      <td>0.348958</td>\n",
       "    </tr>\n",
       "    <tr>\n",
       "      <th>std</th>\n",
       "      <td>3.369578</td>\n",
       "      <td>31.972618</td>\n",
       "      <td>19.355807</td>\n",
       "      <td>15.952218</td>\n",
       "      <td>115.244002</td>\n",
       "      <td>7.884160</td>\n",
       "      <td>0.331329</td>\n",
       "      <td>11.760232</td>\n",
       "      <td>0.476951</td>\n",
       "    </tr>\n",
       "    <tr>\n",
       "      <th>min</th>\n",
       "      <td>0.000000</td>\n",
       "      <td>0.000000</td>\n",
       "      <td>0.000000</td>\n",
       "      <td>0.000000</td>\n",
       "      <td>0.000000</td>\n",
       "      <td>0.000000</td>\n",
       "      <td>0.078000</td>\n",
       "      <td>21.000000</td>\n",
       "      <td>0.000000</td>\n",
       "    </tr>\n",
       "    <tr>\n",
       "      <th>25%</th>\n",
       "      <td>1.000000</td>\n",
       "      <td>99.000000</td>\n",
       "      <td>62.000000</td>\n",
       "      <td>0.000000</td>\n",
       "      <td>0.000000</td>\n",
       "      <td>27.300000</td>\n",
       "      <td>0.243750</td>\n",
       "      <td>24.000000</td>\n",
       "      <td>0.000000</td>\n",
       "    </tr>\n",
       "    <tr>\n",
       "      <th>50%</th>\n",
       "      <td>3.000000</td>\n",
       "      <td>117.000000</td>\n",
       "      <td>72.000000</td>\n",
       "      <td>23.000000</td>\n",
       "      <td>30.500000</td>\n",
       "      <td>32.000000</td>\n",
       "      <td>0.372500</td>\n",
       "      <td>29.000000</td>\n",
       "      <td>0.000000</td>\n",
       "    </tr>\n",
       "    <tr>\n",
       "      <th>75%</th>\n",
       "      <td>6.000000</td>\n",
       "      <td>140.250000</td>\n",
       "      <td>80.000000</td>\n",
       "      <td>32.000000</td>\n",
       "      <td>127.250000</td>\n",
       "      <td>36.600000</td>\n",
       "      <td>0.626250</td>\n",
       "      <td>41.000000</td>\n",
       "      <td>1.000000</td>\n",
       "    </tr>\n",
       "    <tr>\n",
       "      <th>max</th>\n",
       "      <td>17.000000</td>\n",
       "      <td>199.000000</td>\n",
       "      <td>122.000000</td>\n",
       "      <td>99.000000</td>\n",
       "      <td>846.000000</td>\n",
       "      <td>67.100000</td>\n",
       "      <td>2.420000</td>\n",
       "      <td>81.000000</td>\n",
       "      <td>1.000000</td>\n",
       "    </tr>\n",
       "  </tbody>\n",
       "</table>\n",
       "</div>"
      ],
      "text/plain": [
       "       Pregnancies     Glucose  BloodPressure  SkinThickness     Insulin  \\\n",
       "count   768.000000  768.000000     768.000000     768.000000  768.000000   \n",
       "mean      3.845052  120.894531      69.105469      20.536458   79.799479   \n",
       "std       3.369578   31.972618      19.355807      15.952218  115.244002   \n",
       "min       0.000000    0.000000       0.000000       0.000000    0.000000   \n",
       "25%       1.000000   99.000000      62.000000       0.000000    0.000000   \n",
       "50%       3.000000  117.000000      72.000000      23.000000   30.500000   \n",
       "75%       6.000000  140.250000      80.000000      32.000000  127.250000   \n",
       "max      17.000000  199.000000     122.000000      99.000000  846.000000   \n",
       "\n",
       "              BMI    Pedigree         Age     Outcome  \n",
       "count  768.000000  768.000000  768.000000  768.000000  \n",
       "mean    31.992578    0.471876   33.240885    0.348958  \n",
       "std      7.884160    0.331329   11.760232    0.476951  \n",
       "min      0.000000    0.078000   21.000000    0.000000  \n",
       "25%     27.300000    0.243750   24.000000    0.000000  \n",
       "50%     32.000000    0.372500   29.000000    0.000000  \n",
       "75%     36.600000    0.626250   41.000000    1.000000  \n",
       "max     67.100000    2.420000   81.000000    1.000000  "
      ]
     },
     "execution_count": 3,
     "metadata": {},
     "output_type": "execute_result"
    }
   ],
   "source": [
    "df.describe()"
   ]
  },
  {
   "cell_type": "code",
   "execution_count": 4,
   "id": "dde0eba7",
   "metadata": {
    "execution": {
     "iopub.execute_input": "2022-09-23T08:16:00.034391Z",
     "iopub.status.busy": "2022-09-23T08:16:00.033863Z",
     "iopub.status.idle": "2022-09-23T08:16:00.045355Z",
     "shell.execute_reply": "2022-09-23T08:16:00.044005Z"
    },
    "papermill": {
     "duration": 0.020154,
     "end_time": "2022-09-23T08:16:00.048126",
     "exception": false,
     "start_time": "2022-09-23T08:16:00.027972",
     "status": "completed"
    },
    "tags": []
   },
   "outputs": [
    {
     "data": {
      "text/plain": [
       "Pregnancies      False\n",
       "Glucose          False\n",
       "BloodPressure    False\n",
       "SkinThickness    False\n",
       "Insulin          False\n",
       "BMI              False\n",
       "Pedigree         False\n",
       "Age              False\n",
       "Outcome          False\n",
       "dtype: bool"
      ]
     },
     "execution_count": 4,
     "metadata": {},
     "output_type": "execute_result"
    }
   ],
   "source": [
    "df.isnull().any()"
   ]
  },
  {
   "cell_type": "code",
   "execution_count": 5,
   "id": "c7ded71b",
   "metadata": {
    "execution": {
     "iopub.execute_input": "2022-09-23T08:16:00.058903Z",
     "iopub.status.busy": "2022-09-23T08:16:00.058459Z",
     "iopub.status.idle": "2022-09-23T08:16:00.064981Z",
     "shell.execute_reply": "2022-09-23T08:16:00.063682Z"
    },
    "papermill": {
     "duration": 0.015018,
     "end_time": "2022-09-23T08:16:00.067689",
     "exception": false,
     "start_time": "2022-09-23T08:16:00.052671",
     "status": "completed"
    },
    "tags": []
   },
   "outputs": [],
   "source": [
    "x = df.iloc[:,1:-1]\n",
    "y = df.iloc[:,-1]"
   ]
  },
  {
   "cell_type": "code",
   "execution_count": 6,
   "id": "9f662c05",
   "metadata": {
    "execution": {
     "iopub.execute_input": "2022-09-23T08:16:00.079400Z",
     "iopub.status.busy": "2022-09-23T08:16:00.078988Z",
     "iopub.status.idle": "2022-09-23T08:16:00.087097Z",
     "shell.execute_reply": "2022-09-23T08:16:00.085670Z"
    },
    "papermill": {
     "duration": 0.017382,
     "end_time": "2022-09-23T08:16:00.090026",
     "exception": false,
     "start_time": "2022-09-23T08:16:00.072644",
     "status": "completed"
    },
    "tags": []
   },
   "outputs": [],
   "source": [
    "x_train, x_test, y_train, y_test = train_test_split(x, y, test_size=0.2, random_state=38)"
   ]
  },
  {
   "cell_type": "code",
   "execution_count": 7,
   "id": "d8c95a3f",
   "metadata": {
    "execution": {
     "iopub.execute_input": "2022-09-23T08:16:00.102052Z",
     "iopub.status.busy": "2022-09-23T08:16:00.101608Z",
     "iopub.status.idle": "2022-09-23T08:16:00.107278Z",
     "shell.execute_reply": "2022-09-23T08:16:00.105903Z"
    },
    "papermill": {
     "duration": 0.015422,
     "end_time": "2022-09-23T08:16:00.110145",
     "exception": false,
     "start_time": "2022-09-23T08:16:00.094723",
     "status": "completed"
    },
    "tags": []
   },
   "outputs": [],
   "source": [
    "knn = KNeighborsClassifier()"
   ]
  },
  {
   "cell_type": "code",
   "execution_count": 8,
   "id": "23874f92",
   "metadata": {
    "execution": {
     "iopub.execute_input": "2022-09-23T08:16:00.121596Z",
     "iopub.status.busy": "2022-09-23T08:16:00.121133Z",
     "iopub.status.idle": "2022-09-23T08:16:00.134258Z",
     "shell.execute_reply": "2022-09-23T08:16:00.133003Z"
    },
    "papermill": {
     "duration": 0.021773,
     "end_time": "2022-09-23T08:16:00.136811",
     "exception": false,
     "start_time": "2022-09-23T08:16:00.115038",
     "status": "completed"
    },
    "tags": []
   },
   "outputs": [
    {
     "data": {
      "text/plain": [
       "KNeighborsClassifier()"
      ]
     },
     "execution_count": 8,
     "metadata": {},
     "output_type": "execute_result"
    }
   ],
   "source": [
    "knn.fit(x_train, y_train)"
   ]
  },
  {
   "cell_type": "code",
   "execution_count": 9,
   "id": "e0f18948",
   "metadata": {
    "execution": {
     "iopub.execute_input": "2022-09-23T08:16:00.148689Z",
     "iopub.status.busy": "2022-09-23T08:16:00.148213Z",
     "iopub.status.idle": "2022-09-23T08:16:00.165647Z",
     "shell.execute_reply": "2022-09-23T08:16:00.164137Z"
    },
    "papermill": {
     "duration": 0.02645,
     "end_time": "2022-09-23T08:16:00.168385",
     "exception": false,
     "start_time": "2022-09-23T08:16:00.141935",
     "status": "completed"
    },
    "tags": []
   },
   "outputs": [],
   "source": [
    "knn_pred = knn.predict(x_test)"
   ]
  },
  {
   "cell_type": "code",
   "execution_count": 10,
   "id": "7163c04a",
   "metadata": {
    "execution": {
     "iopub.execute_input": "2022-09-23T08:16:00.179444Z",
     "iopub.status.busy": "2022-09-23T08:16:00.178971Z",
     "iopub.status.idle": "2022-09-23T08:16:00.190403Z",
     "shell.execute_reply": "2022-09-23T08:16:00.189242Z"
    },
    "papermill": {
     "duration": 0.020025,
     "end_time": "2022-09-23T08:16:00.193024",
     "exception": false,
     "start_time": "2022-09-23T08:16:00.172999",
     "status": "completed"
    },
    "tags": []
   },
   "outputs": [
    {
     "data": {
      "text/plain": [
       "array([[81, 20],\n",
       "       [26, 27]])"
      ]
     },
     "execution_count": 10,
     "metadata": {},
     "output_type": "execute_result"
    }
   ],
   "source": [
    "confusion_matrix(y_test, knn_pred)"
   ]
  },
  {
   "cell_type": "code",
   "execution_count": 11,
   "id": "1e9a5a3d",
   "metadata": {
    "execution": {
     "iopub.execute_input": "2022-09-23T08:16:00.204694Z",
     "iopub.status.busy": "2022-09-23T08:16:00.204268Z",
     "iopub.status.idle": "2022-09-23T08:16:00.219230Z",
     "shell.execute_reply": "2022-09-23T08:16:00.217884Z"
    },
    "papermill": {
     "duration": 0.024962,
     "end_time": "2022-09-23T08:16:00.222687",
     "exception": false,
     "start_time": "2022-09-23T08:16:00.197725",
     "status": "completed"
    },
    "tags": []
   },
   "outputs": [
    {
     "name": "stdout",
     "output_type": "stream",
     "text": [
      "Accuracy:  70.12987012987013\n",
      "Mean Absolute Error:  0.2987012987012987\n",
      "Recall:  0.5094339622641509\n",
      "Precision:  0.574468085106383\n",
      "F1 Score:  0.54\n"
     ]
    }
   ],
   "source": [
    "print(\"Accuracy: \", accuracy_score(y_test, knn_pred)*100)\n",
    "print(\"Mean Absolute Error: \", mean_absolute_error(y_test, knn_pred))\n",
    "print(\"Recall: \", recall_score(y_test, knn_pred))\n",
    "print(\"Precision: \", precision_score(y_test, knn_pred))\n",
    "print(\"F1 Score: \", f1_score(y_test, knn_pred))"
   ]
  },
  {
   "cell_type": "code",
   "execution_count": null,
   "id": "b9b7ad6d",
   "metadata": {
    "papermill": {
     "duration": 0.004497,
     "end_time": "2022-09-23T08:16:00.232197",
     "exception": false,
     "start_time": "2022-09-23T08:16:00.227700",
     "status": "completed"
    },
    "tags": []
   },
   "outputs": [],
   "source": []
  }
 ],
 "metadata": {
  "kernelspec": {
   "display_name": "Python 3",
   "language": "python",
   "name": "python3"
  },
  "language_info": {
   "codemirror_mode": {
    "name": "ipython",
    "version": 3
   },
   "file_extension": ".py",
   "mimetype": "text/x-python",
   "name": "python",
   "nbconvert_exporter": "python",
   "pygments_lexer": "ipython3",
   "version": "3.7.12"
  },
  "papermill": {
   "default_parameters": {},
   "duration": 12.617482,
   "end_time": "2022-09-23T08:16:01.061289",
   "environment_variables": {},
   "exception": null,
   "input_path": "__notebook__.ipynb",
   "output_path": "__notebook__.ipynb",
   "parameters": {},
   "start_time": "2022-09-23T08:15:48.443807",
   "version": "2.3.4"
  }
 },
 "nbformat": 4,
 "nbformat_minor": 5
}
