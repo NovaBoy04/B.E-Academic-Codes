{
 "cells": [
  {
   "cell_type": "code",
   "execution_count": 1,
   "id": "92ef6290",
   "metadata": {
    "_cell_guid": "b1076dfc-b9ad-4769-8c92-a6c4dae69d19",
    "_uuid": "8f2839f25d086af736a60e9eeb907d3b93b6e0e5",
    "execution": {
     "iopub.execute_input": "2022-08-26T07:41:05.954705Z",
     "iopub.status.busy": "2022-08-26T07:41:05.953268Z",
     "iopub.status.idle": "2022-08-26T07:41:08.265220Z",
     "shell.execute_reply": "2022-08-26T07:41:08.263981Z"
    },
    "papermill": {
     "duration": 2.324586,
     "end_time": "2022-08-26T07:41:08.268058",
     "exception": false,
     "start_time": "2022-08-26T07:41:05.943472",
     "status": "completed"
    },
    "tags": []
   },
   "outputs": [
    {
     "data": {
      "text/html": [
       "<div>\n",
       "<style scoped>\n",
       "    .dataframe tbody tr th:only-of-type {\n",
       "        vertical-align: middle;\n",
       "    }\n",
       "\n",
       "    .dataframe tbody tr th {\n",
       "        vertical-align: top;\n",
       "    }\n",
       "\n",
       "    .dataframe thead th {\n",
       "        text-align: right;\n",
       "    }\n",
       "</style>\n",
       "<table border=\"1\" class=\"dataframe\">\n",
       "  <thead>\n",
       "    <tr style=\"text-align: right;\">\n",
       "      <th></th>\n",
       "      <th>Unnamed: 0</th>\n",
       "      <th>key</th>\n",
       "      <th>fare_amount</th>\n",
       "      <th>pickup_datetime</th>\n",
       "      <th>pickup_longitude</th>\n",
       "      <th>pickup_latitude</th>\n",
       "      <th>dropoff_longitude</th>\n",
       "      <th>dropoff_latitude</th>\n",
       "      <th>passenger_count</th>\n",
       "    </tr>\n",
       "  </thead>\n",
       "  <tbody>\n",
       "    <tr>\n",
       "      <th>0</th>\n",
       "      <td>24238194</td>\n",
       "      <td>2015-05-07 19:52:06.0000003</td>\n",
       "      <td>7.5</td>\n",
       "      <td>2015-05-07 19:52:06 UTC</td>\n",
       "      <td>-73.999817</td>\n",
       "      <td>40.738354</td>\n",
       "      <td>-73.999512</td>\n",
       "      <td>40.723217</td>\n",
       "      <td>1</td>\n",
       "    </tr>\n",
       "    <tr>\n",
       "      <th>1</th>\n",
       "      <td>27835199</td>\n",
       "      <td>2009-07-17 20:04:56.0000002</td>\n",
       "      <td>7.7</td>\n",
       "      <td>2009-07-17 20:04:56 UTC</td>\n",
       "      <td>-73.994355</td>\n",
       "      <td>40.728225</td>\n",
       "      <td>-73.994710</td>\n",
       "      <td>40.750325</td>\n",
       "      <td>1</td>\n",
       "    </tr>\n",
       "    <tr>\n",
       "      <th>2</th>\n",
       "      <td>44984355</td>\n",
       "      <td>2009-08-24 21:45:00.00000061</td>\n",
       "      <td>12.9</td>\n",
       "      <td>2009-08-24 21:45:00 UTC</td>\n",
       "      <td>-74.005043</td>\n",
       "      <td>40.740770</td>\n",
       "      <td>-73.962565</td>\n",
       "      <td>40.772647</td>\n",
       "      <td>1</td>\n",
       "    </tr>\n",
       "    <tr>\n",
       "      <th>3</th>\n",
       "      <td>25894730</td>\n",
       "      <td>2009-06-26 08:22:21.0000001</td>\n",
       "      <td>5.3</td>\n",
       "      <td>2009-06-26 08:22:21 UTC</td>\n",
       "      <td>-73.976124</td>\n",
       "      <td>40.790844</td>\n",
       "      <td>-73.965316</td>\n",
       "      <td>40.803349</td>\n",
       "      <td>3</td>\n",
       "    </tr>\n",
       "    <tr>\n",
       "      <th>4</th>\n",
       "      <td>17610152</td>\n",
       "      <td>2014-08-28 17:47:00.000000188</td>\n",
       "      <td>16.0</td>\n",
       "      <td>2014-08-28 17:47:00 UTC</td>\n",
       "      <td>-73.925023</td>\n",
       "      <td>40.744085</td>\n",
       "      <td>-73.973082</td>\n",
       "      <td>40.761247</td>\n",
       "      <td>5</td>\n",
       "    </tr>\n",
       "  </tbody>\n",
       "</table>\n",
       "</div>"
      ],
      "text/plain": [
       "   Unnamed: 0                            key  fare_amount  \\\n",
       "0    24238194    2015-05-07 19:52:06.0000003          7.5   \n",
       "1    27835199    2009-07-17 20:04:56.0000002          7.7   \n",
       "2    44984355   2009-08-24 21:45:00.00000061         12.9   \n",
       "3    25894730    2009-06-26 08:22:21.0000001          5.3   \n",
       "4    17610152  2014-08-28 17:47:00.000000188         16.0   \n",
       "\n",
       "           pickup_datetime  pickup_longitude  pickup_latitude  \\\n",
       "0  2015-05-07 19:52:06 UTC        -73.999817        40.738354   \n",
       "1  2009-07-17 20:04:56 UTC        -73.994355        40.728225   \n",
       "2  2009-08-24 21:45:00 UTC        -74.005043        40.740770   \n",
       "3  2009-06-26 08:22:21 UTC        -73.976124        40.790844   \n",
       "4  2014-08-28 17:47:00 UTC        -73.925023        40.744085   \n",
       "\n",
       "   dropoff_longitude  dropoff_latitude  passenger_count  \n",
       "0         -73.999512         40.723217                1  \n",
       "1         -73.994710         40.750325                1  \n",
       "2         -73.962565         40.772647                1  \n",
       "3         -73.965316         40.803349                3  \n",
       "4         -73.973082         40.761247                5  "
      ]
     },
     "execution_count": 1,
     "metadata": {},
     "output_type": "execute_result"
    }
   ],
   "source": [
    "import numpy as np \n",
    "import pandas as pd \n",
    "import matplotlib.pyplot as plt\n",
    "import seaborn as sns\n",
    "from sklearn.linear_model import LinearRegression \n",
    "from sklearn.metrics import mean_absolute_error, mean_squared_error\n",
    "from sklearn.model_selection import train_test_split\n",
    "from sklearn.ensemble import RandomForestRegressor\n",
    "from sklearn.preprocessing import StandardScaler\n",
    "df = pd.read_csv('../input/uber-fares-dataset/uber.csv')\n",
    "df.head()"
   ]
  },
  {
   "cell_type": "code",
   "execution_count": 2,
   "id": "aa022b3a",
   "metadata": {
    "execution": {
     "iopub.execute_input": "2022-08-26T07:41:08.285237Z",
     "iopub.status.busy": "2022-08-26T07:41:08.284533Z",
     "iopub.status.idle": "2022-08-26T07:41:08.307868Z",
     "shell.execute_reply": "2022-08-26T07:41:08.306420Z"
    },
    "papermill": {
     "duration": 0.035053,
     "end_time": "2022-08-26T07:41:08.310630",
     "exception": false,
     "start_time": "2022-08-26T07:41:08.275577",
     "status": "completed"
    },
    "tags": []
   },
   "outputs": [],
   "source": [
    "df = df.drop('Unnamed: 0', axis=1)"
   ]
  },
  {
   "cell_type": "code",
   "execution_count": 3,
   "id": "0190d2d8",
   "metadata": {
    "execution": {
     "iopub.execute_input": "2022-08-26T07:41:08.326564Z",
     "iopub.status.busy": "2022-08-26T07:41:08.325707Z",
     "iopub.status.idle": "2022-08-26T07:41:08.355598Z",
     "shell.execute_reply": "2022-08-26T07:41:08.354279Z"
    },
    "papermill": {
     "duration": 0.040775,
     "end_time": "2022-08-26T07:41:08.358352",
     "exception": false,
     "start_time": "2022-08-26T07:41:08.317577",
     "status": "completed"
    },
    "tags": []
   },
   "outputs": [
    {
     "data": {
      "text/plain": [
       "key                  False\n",
       "fare_amount          False\n",
       "pickup_datetime      False\n",
       "pickup_longitude     False\n",
       "pickup_latitude      False\n",
       "dropoff_longitude     True\n",
       "dropoff_latitude      True\n",
       "passenger_count      False\n",
       "dtype: bool"
      ]
     },
     "execution_count": 3,
     "metadata": {},
     "output_type": "execute_result"
    }
   ],
   "source": [
    "df.isna().any()"
   ]
  },
  {
   "cell_type": "code",
   "execution_count": 4,
   "id": "6d9509a6",
   "metadata": {
    "execution": {
     "iopub.execute_input": "2022-08-26T07:41:08.375207Z",
     "iopub.status.busy": "2022-08-26T07:41:08.374068Z",
     "iopub.status.idle": "2022-08-26T07:41:08.381637Z",
     "shell.execute_reply": "2022-08-26T07:41:08.380423Z"
    },
    "papermill": {
     "duration": 0.018459,
     "end_time": "2022-08-26T07:41:08.383957",
     "exception": false,
     "start_time": "2022-08-26T07:41:08.365498",
     "status": "completed"
    },
    "tags": []
   },
   "outputs": [
    {
     "data": {
      "text/plain": [
       "(200000, 8)"
      ]
     },
     "execution_count": 4,
     "metadata": {},
     "output_type": "execute_result"
    }
   ],
   "source": [
    "df.shape"
   ]
  },
  {
   "cell_type": "code",
   "execution_count": 5,
   "id": "8c6bb004",
   "metadata": {
    "execution": {
     "iopub.execute_input": "2022-08-26T07:41:08.400273Z",
     "iopub.status.busy": "2022-08-26T07:41:08.399474Z",
     "iopub.status.idle": "2022-08-26T07:41:08.455513Z",
     "shell.execute_reply": "2022-08-26T07:41:08.454252Z"
    },
    "papermill": {
     "duration": 0.067383,
     "end_time": "2022-08-26T07:41:08.458312",
     "exception": false,
     "start_time": "2022-08-26T07:41:08.390929",
     "status": "completed"
    },
    "tags": []
   },
   "outputs": [],
   "source": [
    "df = df.dropna()"
   ]
  },
  {
   "cell_type": "code",
   "execution_count": 6,
   "id": "7f346bc6",
   "metadata": {
    "execution": {
     "iopub.execute_input": "2022-08-26T07:41:08.474289Z",
     "iopub.status.busy": "2022-08-26T07:41:08.473854Z",
     "iopub.status.idle": "2022-08-26T07:41:08.501486Z",
     "shell.execute_reply": "2022-08-26T07:41:08.500372Z"
    },
    "papermill": {
     "duration": 0.03895,
     "end_time": "2022-08-26T07:41:08.504412",
     "exception": false,
     "start_time": "2022-08-26T07:41:08.465462",
     "status": "completed"
    },
    "tags": []
   },
   "outputs": [
    {
     "data": {
      "text/plain": [
       "key                  False\n",
       "fare_amount          False\n",
       "pickup_datetime      False\n",
       "pickup_longitude     False\n",
       "pickup_latitude      False\n",
       "dropoff_longitude    False\n",
       "dropoff_latitude     False\n",
       "passenger_count      False\n",
       "dtype: bool"
      ]
     },
     "execution_count": 6,
     "metadata": {},
     "output_type": "execute_result"
    }
   ],
   "source": [
    "df.isna().any()\n"
   ]
  },
  {
   "cell_type": "code",
   "execution_count": 7,
   "id": "135eff66",
   "metadata": {
    "execution": {
     "iopub.execute_input": "2022-08-26T07:41:08.521149Z",
     "iopub.status.busy": "2022-08-26T07:41:08.520712Z",
     "iopub.status.idle": "2022-08-26T07:41:08.528242Z",
     "shell.execute_reply": "2022-08-26T07:41:08.526996Z"
    },
    "papermill": {
     "duration": 0.019175,
     "end_time": "2022-08-26T07:41:08.530927",
     "exception": false,
     "start_time": "2022-08-26T07:41:08.511752",
     "status": "completed"
    },
    "tags": []
   },
   "outputs": [
    {
     "data": {
      "text/plain": [
       "(199999, 8)"
      ]
     },
     "execution_count": 7,
     "metadata": {},
     "output_type": "execute_result"
    }
   ],
   "source": [
    "df.shape"
   ]
  },
  {
   "cell_type": "code",
   "execution_count": 8,
   "id": "db814aba",
   "metadata": {
    "execution": {
     "iopub.execute_input": "2022-08-26T07:41:08.548544Z",
     "iopub.status.busy": "2022-08-26T07:41:08.547575Z",
     "iopub.status.idle": "2022-08-26T07:41:08.691277Z",
     "shell.execute_reply": "2022-08-26T07:41:08.690157Z"
    },
    "papermill": {
     "duration": 0.155139,
     "end_time": "2022-08-26T07:41:08.694015",
     "exception": false,
     "start_time": "2022-08-26T07:41:08.538876",
     "status": "completed"
    },
    "tags": []
   },
   "outputs": [],
   "source": [
    "df = df.loc[df['pickup_longitude'] >= -180]\n",
    "df = df.loc[df['pickup_longitude'] <= 180]\n",
    "df = df.loc[df['dropoff_longitude'] >= -180]\n",
    "df = df.loc[df['dropoff_longitude'] <= 180]\n",
    "df = df.loc[df['pickup_latitude'] >= -90]\n",
    "df = df.loc[df['pickup_latitude'] <= 90]\n",
    "df = df.loc[df['dropoff_latitude'] >= -90]\n",
    "df = df.loc[df['dropoff_latitude'] <= 90]"
   ]
  },
  {
   "cell_type": "code",
   "execution_count": 9,
   "id": "f5608c44",
   "metadata": {
    "execution": {
     "iopub.execute_input": "2022-08-26T07:41:08.711916Z",
     "iopub.status.busy": "2022-08-26T07:41:08.711111Z",
     "iopub.status.idle": "2022-08-26T07:41:08.718631Z",
     "shell.execute_reply": "2022-08-26T07:41:08.717387Z"
    },
    "papermill": {
     "duration": 0.019014,
     "end_time": "2022-08-26T07:41:08.721014",
     "exception": false,
     "start_time": "2022-08-26T07:41:08.702000",
     "status": "completed"
    },
    "tags": []
   },
   "outputs": [
    {
     "data": {
      "text/plain": [
       "(199987, 8)"
      ]
     },
     "execution_count": 9,
     "metadata": {},
     "output_type": "execute_result"
    }
   ],
   "source": [
    "df.shape"
   ]
  },
  {
   "cell_type": "code",
   "execution_count": 10,
   "id": "a3ebef53",
   "metadata": {
    "execution": {
     "iopub.execute_input": "2022-08-26T07:41:08.738327Z",
     "iopub.status.busy": "2022-08-26T07:41:08.737086Z",
     "iopub.status.idle": "2022-08-26T07:41:08.744756Z",
     "shell.execute_reply": "2022-08-26T07:41:08.743560Z"
    },
    "papermill": {
     "duration": 0.019026,
     "end_time": "2022-08-26T07:41:08.747483",
     "exception": false,
     "start_time": "2022-08-26T07:41:08.728457",
     "status": "completed"
    },
    "tags": []
   },
   "outputs": [],
   "source": [
    "def harvesine_dist(latitude1, longitude1, latitude2, longitude2):\n",
    "    lat1, long1, lat2, long2 = map(np.radians, [latitude1, longitude1, latitude2, longitude2])\n",
    "    dist_lat = lat2-lat1\n",
    "    dist_long = long2-long1\n",
    "    a = np.sin(dist_lat/2)**2 + np.cos(lat1) * np.cos(lat2) * np.sin(dist_long/2)**2\n",
    "    c = 2 * np.arcsin(np.sqrt(a)) * 6371\n",
    "    \n",
    "    return c"
   ]
  },
  {
   "cell_type": "code",
   "execution_count": 11,
   "id": "1dc3a81d",
   "metadata": {
    "execution": {
     "iopub.execute_input": "2022-08-26T07:41:08.764523Z",
     "iopub.status.busy": "2022-08-26T07:41:08.764107Z",
     "iopub.status.idle": "2022-08-26T07:41:08.790737Z",
     "shell.execute_reply": "2022-08-26T07:41:08.789724Z"
    },
    "papermill": {
     "duration": 0.038192,
     "end_time": "2022-08-26T07:41:08.793404",
     "exception": false,
     "start_time": "2022-08-26T07:41:08.755212",
     "status": "completed"
    },
    "tags": []
   },
   "outputs": [],
   "source": [
    "df['Distance'] = harvesine_dist(\n",
    "    df['pickup_latitude'],\n",
    "    df['pickup_longitude'],\n",
    "    df['dropoff_latitude'],\n",
    "    df['dropoff_longitude']\n",
    ")"
   ]
  },
  {
   "cell_type": "code",
   "execution_count": 12,
   "id": "87e758a6",
   "metadata": {
    "execution": {
     "iopub.execute_input": "2022-08-26T07:41:08.810763Z",
     "iopub.status.busy": "2022-08-26T07:41:08.810149Z",
     "iopub.status.idle": "2022-08-26T07:41:08.828429Z",
     "shell.execute_reply": "2022-08-26T07:41:08.827254Z"
    },
    "papermill": {
     "duration": 0.030119,
     "end_time": "2022-08-26T07:41:08.831422",
     "exception": false,
     "start_time": "2022-08-26T07:41:08.801303",
     "status": "completed"
    },
    "tags": []
   },
   "outputs": [
    {
     "data": {
      "text/html": [
       "<div>\n",
       "<style scoped>\n",
       "    .dataframe tbody tr th:only-of-type {\n",
       "        vertical-align: middle;\n",
       "    }\n",
       "\n",
       "    .dataframe tbody tr th {\n",
       "        vertical-align: top;\n",
       "    }\n",
       "\n",
       "    .dataframe thead th {\n",
       "        text-align: right;\n",
       "    }\n",
       "</style>\n",
       "<table border=\"1\" class=\"dataframe\">\n",
       "  <thead>\n",
       "    <tr style=\"text-align: right;\">\n",
       "      <th></th>\n",
       "      <th>key</th>\n",
       "      <th>fare_amount</th>\n",
       "      <th>pickup_datetime</th>\n",
       "      <th>pickup_longitude</th>\n",
       "      <th>pickup_latitude</th>\n",
       "      <th>dropoff_longitude</th>\n",
       "      <th>dropoff_latitude</th>\n",
       "      <th>passenger_count</th>\n",
       "      <th>Distance</th>\n",
       "    </tr>\n",
       "  </thead>\n",
       "  <tbody>\n",
       "    <tr>\n",
       "      <th>0</th>\n",
       "      <td>2015-05-07 19:52:06.0000003</td>\n",
       "      <td>7.5</td>\n",
       "      <td>2015-05-07 19:52:06 UTC</td>\n",
       "      <td>-73.999817</td>\n",
       "      <td>40.738354</td>\n",
       "      <td>-73.999512</td>\n",
       "      <td>40.723217</td>\n",
       "      <td>1</td>\n",
       "      <td>1.683323</td>\n",
       "    </tr>\n",
       "    <tr>\n",
       "      <th>1</th>\n",
       "      <td>2009-07-17 20:04:56.0000002</td>\n",
       "      <td>7.7</td>\n",
       "      <td>2009-07-17 20:04:56 UTC</td>\n",
       "      <td>-73.994355</td>\n",
       "      <td>40.728225</td>\n",
       "      <td>-73.994710</td>\n",
       "      <td>40.750325</td>\n",
       "      <td>1</td>\n",
       "      <td>2.457590</td>\n",
       "    </tr>\n",
       "    <tr>\n",
       "      <th>2</th>\n",
       "      <td>2009-08-24 21:45:00.00000061</td>\n",
       "      <td>12.9</td>\n",
       "      <td>2009-08-24 21:45:00 UTC</td>\n",
       "      <td>-74.005043</td>\n",
       "      <td>40.740770</td>\n",
       "      <td>-73.962565</td>\n",
       "      <td>40.772647</td>\n",
       "      <td>1</td>\n",
       "      <td>5.036377</td>\n",
       "    </tr>\n",
       "    <tr>\n",
       "      <th>3</th>\n",
       "      <td>2009-06-26 08:22:21.0000001</td>\n",
       "      <td>5.3</td>\n",
       "      <td>2009-06-26 08:22:21 UTC</td>\n",
       "      <td>-73.976124</td>\n",
       "      <td>40.790844</td>\n",
       "      <td>-73.965316</td>\n",
       "      <td>40.803349</td>\n",
       "      <td>3</td>\n",
       "      <td>1.661683</td>\n",
       "    </tr>\n",
       "    <tr>\n",
       "      <th>4</th>\n",
       "      <td>2014-08-28 17:47:00.000000188</td>\n",
       "      <td>16.0</td>\n",
       "      <td>2014-08-28 17:47:00 UTC</td>\n",
       "      <td>-73.925023</td>\n",
       "      <td>40.744085</td>\n",
       "      <td>-73.973082</td>\n",
       "      <td>40.761247</td>\n",
       "      <td>5</td>\n",
       "      <td>4.475450</td>\n",
       "    </tr>\n",
       "  </tbody>\n",
       "</table>\n",
       "</div>"
      ],
      "text/plain": [
       "                             key  fare_amount          pickup_datetime  \\\n",
       "0    2015-05-07 19:52:06.0000003          7.5  2015-05-07 19:52:06 UTC   \n",
       "1    2009-07-17 20:04:56.0000002          7.7  2009-07-17 20:04:56 UTC   \n",
       "2   2009-08-24 21:45:00.00000061         12.9  2009-08-24 21:45:00 UTC   \n",
       "3    2009-06-26 08:22:21.0000001          5.3  2009-06-26 08:22:21 UTC   \n",
       "4  2014-08-28 17:47:00.000000188         16.0  2014-08-28 17:47:00 UTC   \n",
       "\n",
       "   pickup_longitude  pickup_latitude  dropoff_longitude  dropoff_latitude  \\\n",
       "0        -73.999817        40.738354         -73.999512         40.723217   \n",
       "1        -73.994355        40.728225         -73.994710         40.750325   \n",
       "2        -74.005043        40.740770         -73.962565         40.772647   \n",
       "3        -73.976124        40.790844         -73.965316         40.803349   \n",
       "4        -73.925023        40.744085         -73.973082         40.761247   \n",
       "\n",
       "   passenger_count  Distance  \n",
       "0                1  1.683323  \n",
       "1                1  2.457590  \n",
       "2                1  5.036377  \n",
       "3                3  1.661683  \n",
       "4                5  4.475450  "
      ]
     },
     "execution_count": 12,
     "metadata": {},
     "output_type": "execute_result"
    }
   ],
   "source": [
    "df.head()"
   ]
  },
  {
   "cell_type": "code",
   "execution_count": 13,
   "id": "7c931292",
   "metadata": {
    "execution": {
     "iopub.execute_input": "2022-08-26T07:41:08.849534Z",
     "iopub.status.busy": "2022-08-26T07:41:08.849064Z",
     "iopub.status.idle": "2022-08-26T07:41:09.398729Z",
     "shell.execute_reply": "2022-08-26T07:41:09.397570Z"
    },
    "papermill": {
     "duration": 0.561165,
     "end_time": "2022-08-26T07:41:09.401262",
     "exception": false,
     "start_time": "2022-08-26T07:41:08.840097",
     "status": "completed"
    },
    "tags": []
   },
   "outputs": [
    {
     "data": {
      "text/plain": [
       "<matplotlib.collections.PathCollection at 0x7f2291fe1710>"
      ]
     },
     "execution_count": 13,
     "metadata": {},
     "output_type": "execute_result"
    },
    {
     "data": {
      "image/png": "[encoded data removed]",
      "text/plain": [
       "<Figure size 432x288 with 1 Axes>"
      ]
     },
     "metadata": {
      "needs_background": "light"
     },
     "output_type": "display_data"
    }
   ],
   "source": [
    "plt.scatter(df['Distance'], df['fare_amount'])"
   ]
  },
  {
   "cell_type": "code",
   "execution_count": 14,
   "id": "7d561597",
   "metadata": {
    "execution": {
     "iopub.execute_input": "2022-08-26T07:41:09.419519Z",
     "iopub.status.busy": "2022-08-26T07:41:09.418741Z",
     "iopub.status.idle": "2022-08-26T07:41:09.492309Z",
     "shell.execute_reply": "2022-08-26T07:41:09.491117Z"
    },
    "papermill": {
     "duration": 0.085363,
     "end_time": "2022-08-26T07:41:09.494792",
     "exception": false,
     "start_time": "2022-08-26T07:41:09.409429",
     "status": "completed"
    },
    "tags": []
   },
   "outputs": [
    {
     "data": {
      "text/plain": [
       "(193857, 9)"
      ]
     },
     "execution_count": 14,
     "metadata": {},
     "output_type": "execute_result"
    }
   ],
   "source": [
    "df = df.loc[df['fare_amount']>0]\n",
    "df = df.loc[df['Distance']>0]\n",
    "df = df.loc[df['Distance']<75]\n",
    "df.shape"
   ]
  },
  {
   "cell_type": "code",
   "execution_count": 15,
   "id": "33327c84",
   "metadata": {
    "execution": {
     "iopub.execute_input": "2022-08-26T07:41:09.513406Z",
     "iopub.status.busy": "2022-08-26T07:41:09.512304Z",
     "iopub.status.idle": "2022-08-26T07:41:10.024234Z",
     "shell.execute_reply": "2022-08-26T07:41:10.022631Z"
    },
    "papermill": {
     "duration": 0.524413,
     "end_time": "2022-08-26T07:41:10.027395",
     "exception": false,
     "start_time": "2022-08-26T07:41:09.502982",
     "status": "completed"
    },
    "tags": []
   },
   "outputs": [
    {
     "data": {
      "text/plain": [
       "<matplotlib.collections.PathCollection at 0x7f2291e6ea50>"
      ]
     },
     "execution_count": 15,
     "metadata": {},
     "output_type": "execute_result"
    },
    {
     "data": {
      "image/png": "[encoded data removed]",
      "text/plain": [
       "<Figure size 432x288 with 1 Axes>"
      ]
     },
     "metadata": {
      "needs_background": "light"
     },
     "output_type": "display_data"
    }
   ],
   "source": [
    "plt.scatter(df['Distance'], df['fare_amount'])"
   ]
  },
  {
   "cell_type": "code",
   "execution_count": 16,
   "id": "76f6e24f",
   "metadata": {
    "execution": {
     "iopub.execute_input": "2022-08-26T07:41:10.046630Z",
     "iopub.status.busy": "2022-08-26T07:41:10.045909Z",
     "iopub.status.idle": "2022-08-26T07:41:10.599564Z",
     "shell.execute_reply": "2022-08-26T07:41:10.598236Z"
    },
    "papermill": {
     "duration": 0.566398,
     "end_time": "2022-08-26T07:41:10.602421",
     "exception": false,
     "start_time": "2022-08-26T07:41:10.036023",
     "status": "completed"
    },
    "tags": []
   },
   "outputs": [
    {
     "data": {
      "text/plain": [
       "<AxesSubplot:>"
      ]
     },
     "execution_count": 16,
     "metadata": {},
     "output_type": "execute_result"
    },
    {
     "data": {
      "image/png": "[encoded data removed]",
      "text/plain": [
       "<Figure size 432x288 with 2 Axes>"
      ]
     },
     "metadata": {
      "needs_background": "light"
     },
     "output_type": "display_data"
    }
   ],
   "source": [
    "sns.heatmap(df.corr(),annot=True, fmt='.2f')"
   ]
  },
  {
   "cell_type": "code",
   "execution_count": 17,
   "id": "4f20d136",
   "metadata": {
    "execution": {
     "iopub.execute_input": "2022-08-26T07:41:10.623201Z",
     "iopub.status.busy": "2022-08-26T07:41:10.622543Z",
     "iopub.status.idle": "2022-08-26T07:41:10.627191Z",
     "shell.execute_reply": "2022-08-26T07:41:10.626390Z"
    },
    "papermill": {
     "duration": 0.017541,
     "end_time": "2022-08-26T07:41:10.629361",
     "exception": false,
     "start_time": "2022-08-26T07:41:10.611820",
     "status": "completed"
    },
    "tags": []
   },
   "outputs": [],
   "source": [
    "x = df['Distance'].values.reshape(-1,1)\n",
    "y = df['fare_amount'].values.reshape(-1,1)"
   ]
  },
  {
   "cell_type": "code",
   "execution_count": 18,
   "id": "3fc09194",
   "metadata": {
    "execution": {
     "iopub.execute_input": "2022-08-26T07:41:10.650099Z",
     "iopub.status.busy": "2022-08-26T07:41:10.649075Z",
     "iopub.status.idle": "2022-08-26T07:41:10.658822Z",
     "shell.execute_reply": "2022-08-26T07:41:10.657772Z"
    },
    "papermill": {
     "duration": 0.022555,
     "end_time": "2022-08-26T07:41:10.661335",
     "exception": false,
     "start_time": "2022-08-26T07:41:10.638780",
     "status": "completed"
    },
    "tags": []
   },
   "outputs": [],
   "source": [
    "ss = StandardScaler()\n",
    "std_x = ss.fit_transform(x)\n",
    "std_y = ss.fit_transform(y)"
   ]
  },
  {
   "cell_type": "code",
   "execution_count": 19,
   "id": "cd522338",
   "metadata": {
    "execution": {
     "iopub.execute_input": "2022-08-26T07:41:10.681903Z",
     "iopub.status.busy": "2022-08-26T07:41:10.681469Z",
     "iopub.status.idle": "2022-08-26T07:41:10.699282Z",
     "shell.execute_reply": "2022-08-26T07:41:10.698312Z"
    },
    "papermill": {
     "duration": 0.031366,
     "end_time": "2022-08-26T07:41:10.701987",
     "exception": false,
     "start_time": "2022-08-26T07:41:10.670621",
     "status": "completed"
    },
    "tags": []
   },
   "outputs": [],
   "source": [
    "train_x, test_x, train_y, test_y = train_test_split(std_x, std_y, test_size=0.2, random_state=42)\n"
   ]
  },
  {
   "cell_type": "code",
   "execution_count": 20,
   "id": "a25d9ec7",
   "metadata": {
    "execution": {
     "iopub.execute_input": "2022-08-26T07:41:10.723013Z",
     "iopub.status.busy": "2022-08-26T07:41:10.722516Z",
     "iopub.status.idle": "2022-08-26T07:41:10.728041Z",
     "shell.execute_reply": "2022-08-26T07:41:10.726840Z"
    },
    "papermill": {
     "duration": 0.018619,
     "end_time": "2022-08-26T07:41:10.730661",
     "exception": false,
     "start_time": "2022-08-26T07:41:10.712042",
     "status": "completed"
    },
    "tags": []
   },
   "outputs": [],
   "source": [
    "lreg = LinearRegression()\n",
    "rfreg = RandomForestRegressor()"
   ]
  },
  {
   "cell_type": "code",
   "execution_count": 21,
   "id": "a56cbb09",
   "metadata": {
    "execution": {
     "iopub.execute_input": "2022-08-26T07:41:10.750807Z",
     "iopub.status.busy": "2022-08-26T07:41:10.750386Z",
     "iopub.status.idle": "2022-08-26T07:41:47.590919Z",
     "shell.execute_reply": "2022-08-26T07:41:47.589620Z"
    },
    "papermill": {
     "duration": 36.863684,
     "end_time": "2022-08-26T07:41:47.603607",
     "exception": false,
     "start_time": "2022-08-26T07:41:10.739923",
     "status": "completed"
    },
    "tags": []
   },
   "outputs": [
    {
     "name": "stderr",
     "output_type": "stream",
     "text": [
      "/opt/conda/lib/python3.7/site-packages/ipykernel_launcher.py:2: DataConversionWarning: A column-vector y was passed when a 1d array was expected. Please change the shape of y to (n_samples,), for example using ravel().\n",
      "  \n"
     ]
    },
    {
     "data": {
      "text/plain": [
       "RandomForestRegressor()"
      ]
     },
     "execution_count": 21,
     "metadata": {},
     "output_type": "execute_result"
    }
   ],
   "source": [
    "lreg.fit(train_x, train_y)\n",
    "rfreg.fit(train_x, train_y)"
   ]
  },
  {
   "cell_type": "code",
   "execution_count": 22,
   "id": "c45a7eea",
   "metadata": {
    "execution": {
     "iopub.execute_input": "2022-08-26T07:41:47.625340Z",
     "iopub.status.busy": "2022-08-26T07:41:47.624067Z",
     "iopub.status.idle": "2022-08-26T07:41:50.278833Z",
     "shell.execute_reply": "2022-08-26T07:41:50.277631Z"
    },
    "papermill": {
     "duration": 2.66903,
     "end_time": "2022-08-26T07:41:50.282108",
     "exception": false,
     "start_time": "2022-08-26T07:41:47.613078",
     "status": "completed"
    },
    "tags": []
   },
   "outputs": [],
   "source": [
    "lreg_pred = lreg.predict(test_x)\n",
    "rfreg_pred = rfreg.predict(test_x)\n"
   ]
  },
  {
   "cell_type": "code",
   "execution_count": 23,
   "id": "a67f1efa",
   "metadata": {
    "execution": {
     "iopub.execute_input": "2022-08-26T07:41:50.303694Z",
     "iopub.status.busy": "2022-08-26T07:41:50.303273Z",
     "iopub.status.idle": "2022-08-26T07:41:50.310031Z",
     "shell.execute_reply": "2022-08-26T07:41:50.308678Z"
    },
    "papermill": {
     "duration": 0.020552,
     "end_time": "2022-08-26T07:41:50.312554",
     "exception": false,
     "start_time": "2022-08-26T07:41:50.292002",
     "status": "completed"
    },
    "tags": []
   },
   "outputs": [
    {
     "name": "stdout",
     "output_type": "stream",
     "text": [
      "Coeff of Linear Regression  [[0.8694432]] and Intercept is  [-0.00038648]\n"
     ]
    }
   ],
   "source": [
    "print(\"Coeff of Linear Regression \", lreg.coef_, \"and Intercept is \", lreg.intercept_)"
   ]
  },
  {
   "cell_type": "code",
   "execution_count": 24,
   "id": "be9618a3",
   "metadata": {
    "execution": {
     "iopub.execute_input": "2022-08-26T07:41:50.335658Z",
     "iopub.status.busy": "2022-08-26T07:41:50.334315Z",
     "iopub.status.idle": "2022-08-26T07:41:50.350048Z",
     "shell.execute_reply": "2022-08-26T07:41:50.347305Z"
    },
    "papermill": {
     "duration": 0.03076,
     "end_time": "2022-08-26T07:41:50.353718",
     "exception": false,
     "start_time": "2022-08-26T07:41:50.322958",
     "status": "completed"
    },
    "tags": []
   },
   "outputs": [
    {
     "name": "stdout",
     "output_type": "stream",
     "text": [
      "For Linear Regression\n",
      "MAE is  0.24242896988112872\n",
      "MSE is  0.2379950077864864\n",
      "RMSE is  0.48784732015917276 \n",
      "\n",
      "For Random Forest Regression\n",
      "MAE is  0.2914078606691446\n",
      "MSE is  0.3098858087164364\n",
      "RMSE is  0.5566738800378875\n"
     ]
    }
   ],
   "source": [
    "print(\"For Linear Regression\")\n",
    "print(\"MAE is \", mean_absolute_error(test_y, lreg_pred))\n",
    "print(\"MSE is \", mean_squared_error(test_y, lreg_pred))\n",
    "print(\"RMSE is \", np.sqrt(mean_squared_error(test_y, lreg_pred)),'\\n')\n",
    "\n",
    "print(\"For Random Forest Regression\")\n",
    "print(\"MAE is \", mean_absolute_error(test_y, rfreg_pred))\n",
    "print(\"MSE is \", mean_squared_error(test_y, rfreg_pred))\n",
    "print(\"RMSE is \", np.sqrt(mean_squared_error(test_y, rfreg_pred)))"
   ]
  },
  {
   "cell_type": "code",
   "execution_count": 25,
   "id": "8101abaa",
   "metadata": {
    "execution": {
     "iopub.execute_input": "2022-08-26T07:41:50.376377Z",
     "iopub.status.busy": "2022-08-26T07:41:50.375959Z",
     "iopub.status.idle": "2022-08-26T07:41:50.399878Z",
     "shell.execute_reply": "2022-08-26T07:41:50.398359Z"
    },
    "papermill": {
     "duration": 0.039276,
     "end_time": "2022-08-26T07:41:50.403319",
     "exception": false,
     "start_time": "2022-08-26T07:41:50.364043",
     "status": "completed"
    },
    "tags": []
   },
   "outputs": [
    {
     "data": {
      "text/html": [
       "<div>\n",
       "<style scoped>\n",
       "    .dataframe tbody tr th:only-of-type {\n",
       "        vertical-align: middle;\n",
       "    }\n",
       "\n",
       "    .dataframe tbody tr th {\n",
       "        vertical-align: top;\n",
       "    }\n",
       "\n",
       "    .dataframe thead th {\n",
       "        text-align: right;\n",
       "    }\n",
       "</style>\n",
       "<table border=\"1\" class=\"dataframe\">\n",
       "  <thead>\n",
       "    <tr style=\"text-align: right;\">\n",
       "      <th></th>\n",
       "      <th>Actual</th>\n",
       "      <th>Linear_Predicted</th>\n",
       "      <th>Random_Forest_Predicted</th>\n",
       "    </tr>\n",
       "  </thead>\n",
       "  <tbody>\n",
       "    <tr>\n",
       "      <th>0</th>\n",
       "      <td>0.169871</td>\n",
       "      <td>-0.229004</td>\n",
       "      <td>-0.240147</td>\n",
       "    </tr>\n",
       "    <tr>\n",
       "      <th>1</th>\n",
       "      <td>0.159595</td>\n",
       "      <td>0.631415</td>\n",
       "      <td>0.568586</td>\n",
       "    </tr>\n",
       "    <tr>\n",
       "      <th>2</th>\n",
       "      <td>-0.785811</td>\n",
       "      <td>-0.652519</td>\n",
       "      <td>-0.718605</td>\n",
       "    </tr>\n",
       "    <tr>\n",
       "      <th>3</th>\n",
       "      <td>1.403010</td>\n",
       "      <td>0.926525</td>\n",
       "      <td>0.671759</td>\n",
       "    </tr>\n",
       "    <tr>\n",
       "      <th>4</th>\n",
       "      <td>4.725291</td>\n",
       "      <td>3.726628</td>\n",
       "      <td>3.988008</td>\n",
       "    </tr>\n",
       "  </tbody>\n",
       "</table>\n",
       "</div>"
      ],
      "text/plain": [
       "     Actual  Linear_Predicted  Random_Forest_Predicted\n",
       "0  0.169871         -0.229004                -0.240147\n",
       "1  0.159595          0.631415                 0.568586\n",
       "2 -0.785811         -0.652519                -0.718605\n",
       "3  1.403010          0.926525                 0.671759\n",
       "4  4.725291          3.726628                 3.988008"
      ]
     },
     "execution_count": 25,
     "metadata": {},
     "output_type": "execute_result"
    }
   ],
   "source": [
    "res = pd.DataFrame()\n",
    "res[['Actual']] = test_y\n",
    "res['Linear_Predicted'] = lreg_pred\n",
    "res['Random_Forest_Predicted'] = rfreg_pred\n",
    "\n",
    "res.head()"
   ]
  },
  {
   "cell_type": "code",
   "execution_count": null,
   "id": "aef762cb",
   "metadata": {
    "papermill": {
     "duration": 0.010253,
     "end_time": "2022-08-26T07:41:50.424857",
     "exception": false,
     "start_time": "2022-08-26T07:41:50.414604",
     "status": "completed"
    },
    "tags": []
   },
   "outputs": [],
   "source": []
  }
 ],
 "metadata": {
  "kernelspec": {
   "display_name": "Python 3",
   "language": "python",
   "name": "python3"
  },
  "language_info": {
   "codemirror_mode": {
    "name": "ipython",
    "version": 3
   },
   "file_extension": ".py",
   "mimetype": "text/x-python",
   "name": "python",
   "nbconvert_exporter": "python",
   "pygments_lexer": "ipython3",
   "version": "3.7.12"
  },
  "papermill": {
   "default_parameters": {},
   "duration": 54.75474,
   "end_time": "2022-08-26T07:41:51.263612",
   "environment_variables": {},
   "exception": null,
   "input_path": "__notebook__.ipynb",
   "output_path": "__notebook__.ipynb",
   "parameters": {},
   "start_time": "2022-08-26T07:40:56.508872",
   "version": "2.3.4"
  }
 },
 "nbformat": 4,
 "nbformat_minor": 5
}
