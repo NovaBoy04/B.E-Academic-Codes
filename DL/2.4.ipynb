{
  "cells": [
    {
      "cell_type": "markdown",
      "source": [
        "# **Problem Statement:**"
      ],
      "metadata": {
        "id": "OiHQ0ILSM5CA"
      }
    },
    {
      "cell_type": "markdown",
      "source": [
        "Recurrent neural network (RNN) Use the Google stock prices dataset and design a time\n",
        "seriesanalysis and prediction system using RNN.\n"
      ],
      "metadata": {
        "id": "8QYL10xNNOdc"
      }
    },
    {
      "cell_type": "markdown",
      "source": [
        "Import the libraries:"
      ],
      "metadata": {
        "id": "JntSJDsmNedE"
      }
    },
    {
      "metadata": {
        "_uuid": "8f2839f25d086af736a60e9eeb907d3b93b6e0e5",
        "_cell_guid": "b1076dfc-b9ad-4769-8c92-a6c4dae69d19",
        "trusted": true,
        "id": "j4caLPQiYXMU"
      },
      "cell_type": "code",
      "source": [
        "# This Python 3 environment comes with many helpful analytics libraries installed\n",
        "# It is defined by the kaggle/python docker image: https://github.com/kaggle/docker-python\n",
        "# For example, here's several helpful packages to load in \n",
        "\n",
        "import numpy as np # linear algebra\n",
        "import pandas as pd # data processing, CSV file I/O (e.g. pd.read_csv)\n",
        "import matplotlib.pyplot as plt\n",
        "import tensorflow as tf\n",
        "\n",
        "# Input data files are available in the \"../input/\" directory.\n",
        "# For example, running this (by clicking run or pressing Shift+Enter) will list the files in the input directory\n",
        "\n",
        "import os\n",
        "# print(os.listdir(\"../input\"))\n",
        "\n",
        "# Any results you write to the current directory are saved as output."
      ],
      "execution_count": 1,
      "outputs": []
    },
    {
      "cell_type": "code",
      "source": [
        "from google.colab import drive\n",
        "drive.mount('/content/drive')"
      ],
      "metadata": {
        "colab": {
          "base_uri": "https://localhost:8080/",
          "height": 0
        },
        "id": "rZLPZvoyO1_u",
        "outputId": "f53566cf-3387-4e7e-95d2-e4b16bb0ed6b"
      },
      "execution_count": 3,
      "outputs": [
        {
          "output_type": "stream",
          "name": "stdout",
          "text": [
            "Mounted at /content/drive\n"
          ]
        }
      ]
    },
    {
      "cell_type": "markdown",
      "source": [
        "# **Loading the dataset:**"
      ],
      "metadata": {
        "id": "seGmtV50xYXS"
      }
    },
    {
      "metadata": {
        "_cell_guid": "79c7e3d0-c299-4dcb-8224-4455121ee9b0",
        "_uuid": "d629ff2d2480ee46fbb7e2d37f6b5fab8052498a",
        "trusted": true,
        "id": "1jPuRcl4YXMV"
      },
      "cell_type": "code",
      "source": [
        "dataset_train = pd.read_csv(\"/content/drive/MyDrive/traindata\")"
      ],
      "execution_count": 4,
      "outputs": []
    },
    {
      "metadata": {
        "trusted": true,
        "_uuid": "9de88d689da1a279477470f6cef999c0a45bf98a",
        "id": "2XhPmx0wYXMW",
        "colab": {
          "base_uri": "https://localhost:8080/",
          "height": 424
        },
        "outputId": "431708b1-33e7-42cb-d722-8b3641dd9b1f"
      },
      "cell_type": "code",
      "source": [
        "dataset_train"
      ],
      "execution_count": 5,
      "outputs": [
        {
          "output_type": "execute_result",
          "data": {
            "text/plain": [
              "            Date         Open         High          Low        Close  \\\n",
              "0     2013-01-02   357.385559   361.151062   355.959839   359.288177   \n",
              "1     2013-01-03   360.122742   363.600128   358.031342   359.496826   \n",
              "2     2013-01-04   362.313507   368.339294   361.488861   366.600616   \n",
              "3     2013-01-07   365.348755   367.301056   362.929504   365.001007   \n",
              "4     2013-01-08   365.393463   365.771027   359.874359   364.280701   \n",
              "...          ...          ...          ...          ...          ...   \n",
              "1254  2017-12-22  1061.109985  1064.199951  1059.439941  1060.119995   \n",
              "1255  2017-12-26  1058.069946  1060.119995  1050.199951  1056.739990   \n",
              "1256  2017-12-27  1057.390015  1058.369995  1048.050049  1049.369995   \n",
              "1257  2017-12-28  1051.599976  1054.750000  1044.770020  1048.140015   \n",
              "1258  2017-12-29  1046.719971  1049.699951  1044.900024  1046.400024   \n",
              "\n",
              "        Adj Close   Volume  \n",
              "0      359.288177  5115500  \n",
              "1      359.496826  4666500  \n",
              "2      366.600616  5562800  \n",
              "3      365.001007  3332900  \n",
              "4      364.280701  3373900  \n",
              "...           ...      ...  \n",
              "1254  1060.119995   755100  \n",
              "1255  1056.739990   760600  \n",
              "1256  1049.369995  1271900  \n",
              "1257  1048.140015   837100  \n",
              "1258  1046.400024   887500  \n",
              "\n",
              "[1259 rows x 7 columns]"
            ],
            "text/html": [
              "\n",
              "  <div id=\"df-521c8807-702c-42eb-bac9-2e0eb3b66f11\">\n",
              "    <div class=\"colab-df-container\">\n",
              "      <div>\n",
              "<style scoped>\n",
              "    .dataframe tbody tr th:only-of-type {\n",
              "        vertical-align: middle;\n",
              "    }\n",
              "\n",
              "    .dataframe tbody tr th {\n",
              "        vertical-align: top;\n",
              "    }\n",
              "\n",
              "    .dataframe thead th {\n",
              "        text-align: right;\n",
              "    }\n",
              "</style>\n",
              "<table border=\"1\" class=\"dataframe\">\n",
              "  <thead>\n",
              "    <tr style=\"text-align: right;\">\n",
              "      <th></th>\n",
              "      <th>Date</th>\n",
              "      <th>Open</th>\n",
              "      <th>High</th>\n",
              "      <th>Low</th>\n",
              "      <th>Close</th>\n",
              "      <th>Adj Close</th>\n",
              "      <th>Volume</th>\n",
              "    </tr>\n",
              "  </thead>\n",
              "  <tbody>\n",
              "    <tr>\n",
              "      <th>0</th>\n",
              "      <td>2013-01-02</td>\n",
              "      <td>357.385559</td>\n",
              "      <td>361.151062</td>\n",
              "      <td>355.959839</td>\n",
              "      <td>359.288177</td>\n",
              "      <td>359.288177</td>\n",
              "      <td>5115500</td>\n",
              "    </tr>\n",
              "    <tr>\n",
              "      <th>1</th>\n",
              "      <td>2013-01-03</td>\n",
              "      <td>360.122742</td>\n",
              "      <td>363.600128</td>\n",
              "      <td>358.031342</td>\n",
              "      <td>359.496826</td>\n",
              "      <td>359.496826</td>\n",
              "      <td>4666500</td>\n",
              "    </tr>\n",
              "    <tr>\n",
              "      <th>2</th>\n",
              "      <td>2013-01-04</td>\n",
              "      <td>362.313507</td>\n",
              "      <td>368.339294</td>\n",
              "      <td>361.488861</td>\n",
              "      <td>366.600616</td>\n",
              "      <td>366.600616</td>\n",
              "      <td>5562800</td>\n",
              "    </tr>\n",
              "    <tr>\n",
              "      <th>3</th>\n",
              "      <td>2013-01-07</td>\n",
              "      <td>365.348755</td>\n",
              "      <td>367.301056</td>\n",
              "      <td>362.929504</td>\n",
              "      <td>365.001007</td>\n",
              "      <td>365.001007</td>\n",
              "      <td>3332900</td>\n",
              "    </tr>\n",
              "    <tr>\n",
              "      <th>4</th>\n",
              "      <td>2013-01-08</td>\n",
              "      <td>365.393463</td>\n",
              "      <td>365.771027</td>\n",
              "      <td>359.874359</td>\n",
              "      <td>364.280701</td>\n",
              "      <td>364.280701</td>\n",
              "      <td>3373900</td>\n",
              "    </tr>\n",
              "    <tr>\n",
              "      <th>...</th>\n",
              "      <td>...</td>\n",
              "      <td>...</td>\n",
              "      <td>...</td>\n",
              "      <td>...</td>\n",
              "      <td>...</td>\n",
              "      <td>...</td>\n",
              "      <td>...</td>\n",
              "    </tr>\n",
              "    <tr>\n",
              "      <th>1254</th>\n",
              "      <td>2017-12-22</td>\n",
              "      <td>1061.109985</td>\n",
              "      <td>1064.199951</td>\n",
              "      <td>1059.439941</td>\n",
              "      <td>1060.119995</td>\n",
              "      <td>1060.119995</td>\n",
              "      <td>755100</td>\n",
              "    </tr>\n",
              "    <tr>\n",
              "      <th>1255</th>\n",
              "      <td>2017-12-26</td>\n",
              "      <td>1058.069946</td>\n",
              "      <td>1060.119995</td>\n",
              "      <td>1050.199951</td>\n",
              "      <td>1056.739990</td>\n",
              "      <td>1056.739990</td>\n",
              "      <td>760600</td>\n",
              "    </tr>\n",
              "    <tr>\n",
              "      <th>1256</th>\n",
              "      <td>2017-12-27</td>\n",
              "      <td>1057.390015</td>\n",
              "      <td>1058.369995</td>\n",
              "      <td>1048.050049</td>\n",
              "      <td>1049.369995</td>\n",
              "      <td>1049.369995</td>\n",
              "      <td>1271900</td>\n",
              "    </tr>\n",
              "    <tr>\n",
              "      <th>1257</th>\n",
              "      <td>2017-12-28</td>\n",
              "      <td>1051.599976</td>\n",
              "      <td>1054.750000</td>\n",
              "      <td>1044.770020</td>\n",
              "      <td>1048.140015</td>\n",
              "      <td>1048.140015</td>\n",
              "      <td>837100</td>\n",
              "    </tr>\n",
              "    <tr>\n",
              "      <th>1258</th>\n",
              "      <td>2017-12-29</td>\n",
              "      <td>1046.719971</td>\n",
              "      <td>1049.699951</td>\n",
              "      <td>1044.900024</td>\n",
              "      <td>1046.400024</td>\n",
              "      <td>1046.400024</td>\n",
              "      <td>887500</td>\n",
              "    </tr>\n",
              "  </tbody>\n",
              "</table>\n",
              "<p>1259 rows × 7 columns</p>\n",
              "</div>\n",
              "      <button class=\"colab-df-convert\" onclick=\"convertToInteractive('df-521c8807-702c-42eb-bac9-2e0eb3b66f11')\"\n",
              "              title=\"Convert this dataframe to an interactive table.\"\n",
              "              style=\"display:none;\">\n",
              "        \n",
              "  <svg xmlns=\"http://www.w3.org/2000/svg\" height=\"24px\"viewBox=\"0 0 24 24\"\n",
              "       width=\"24px\">\n",
              "    <path d=\"M0 0h24v24H0V0z\" fill=\"none\"/>\n",
              "    <path d=\"M18.56 5.44l.94 2.06.94-2.06 2.06-.94-2.06-.94-.94-2.06-.94 2.06-2.06.94zm-11 1L8.5 8.5l.94-2.06 2.06-.94-2.06-.94L8.5 2.5l-.94 2.06-2.06.94zm10 10l.94 2.06.94-2.06 2.06-.94-2.06-.94-.94-2.06-.94 2.06-2.06.94z\"/><path d=\"M17.41 7.96l-1.37-1.37c-.4-.4-.92-.59-1.43-.59-.52 0-1.04.2-1.43.59L10.3 9.45l-7.72 7.72c-.78.78-.78 2.05 0 2.83L4 21.41c.39.39.9.59 1.41.59.51 0 1.02-.2 1.41-.59l7.78-7.78 2.81-2.81c.8-.78.8-2.07 0-2.86zM5.41 20L4 18.59l7.72-7.72 1.47 1.35L5.41 20z\"/>\n",
              "  </svg>\n",
              "      </button>\n",
              "      \n",
              "  <style>\n",
              "    .colab-df-container {\n",
              "      display:flex;\n",
              "      flex-wrap:wrap;\n",
              "      gap: 12px;\n",
              "    }\n",
              "\n",
              "    .colab-df-convert {\n",
              "      background-color: #E8F0FE;\n",
              "      border: none;\n",
              "      border-radius: 50%;\n",
              "      cursor: pointer;\n",
              "      display: none;\n",
              "      fill: #1967D2;\n",
              "      height: 32px;\n",
              "      padding: 0 0 0 0;\n",
              "      width: 32px;\n",
              "    }\n",
              "\n",
              "    .colab-df-convert:hover {\n",
              "      background-color: #E2EBFA;\n",
              "      box-shadow: 0px 1px 2px rgba(60, 64, 67, 0.3), 0px 1px 3px 1px rgba(60, 64, 67, 0.15);\n",
              "      fill: #174EA6;\n",
              "    }\n",
              "\n",
              "    [theme=dark] .colab-df-convert {\n",
              "      background-color: #3B4455;\n",
              "      fill: #D2E3FC;\n",
              "    }\n",
              "\n",
              "    [theme=dark] .colab-df-convert:hover {\n",
              "      background-color: #434B5C;\n",
              "      box-shadow: 0px 1px 3px 1px rgba(0, 0, 0, 0.15);\n",
              "      filter: drop-shadow(0px 1px 2px rgba(0, 0, 0, 0.3));\n",
              "      fill: #FFFFFF;\n",
              "    }\n",
              "  </style>\n",
              "\n",
              "      <script>\n",
              "        const buttonEl =\n",
              "          document.querySelector('#df-521c8807-702c-42eb-bac9-2e0eb3b66f11 button.colab-df-convert');\n",
              "        buttonEl.style.display =\n",
              "          google.colab.kernel.accessAllowed ? 'block' : 'none';\n",
              "\n",
              "        async function convertToInteractive(key) {\n",
              "          const element = document.querySelector('#df-521c8807-702c-42eb-bac9-2e0eb3b66f11');\n",
              "          const dataTable =\n",
              "            await google.colab.kernel.invokeFunction('convertToInteractive',\n",
              "                                                     [key], {});\n",
              "          if (!dataTable) return;\n",
              "\n",
              "          const docLinkHtml = 'Like what you see? Visit the ' +\n",
              "            '<a target=\"_blank\" href=https://colab.research.google.com/notebooks/data_table.ipynb>data table notebook</a>'\n",
              "            + ' to learn more about interactive tables.';\n",
              "          element.innerHTML = '';\n",
              "          dataTable['output_type'] = 'display_data';\n",
              "          await google.colab.output.renderOutput(dataTable, element);\n",
              "          const docLink = document.createElement('div');\n",
              "          docLink.innerHTML = docLinkHtml;\n",
              "          element.appendChild(docLink);\n",
              "        }\n",
              "      </script>\n",
              "    </div>\n",
              "  </div>\n",
              "  "
            ]
          },
          "metadata": {},
          "execution_count": 5
        }
      ]
    },
    {
      "metadata": {
        "trusted": true,
        "_uuid": "99cca4c05240bd82c4492c6c3c200925c5c096e5",
        "id": "_fu0sKICYXMW"
      },
      "cell_type": "code",
      "source": [
        "trainset = dataset_train.iloc[:,1:2].values"
      ],
      "execution_count": 6,
      "outputs": []
    },
    {
      "metadata": {
        "trusted": true,
        "_uuid": "1f00141023a0cc15593c8ef1351883177ca3ba21",
        "id": "YstcOpMUYXMW",
        "colab": {
          "base_uri": "https://localhost:8080/",
          "height": 0
        },
        "outputId": "24bbc640-6274-4222-f05b-6c858279b280"
      },
      "cell_type": "code",
      "source": [
        "trainset"
      ],
      "execution_count": 7,
      "outputs": [
        {
          "output_type": "execute_result",
          "data": {
            "text/plain": [
              "array([[ 357.385559],\n",
              "       [ 360.122742],\n",
              "       [ 362.313507],\n",
              "       ...,\n",
              "       [1057.390015],\n",
              "       [1051.599976],\n",
              "       [1046.719971]])"
            ]
          },
          "metadata": {},
          "execution_count": 7
        }
      ]
    },
    {
      "metadata": {
        "trusted": true,
        "_uuid": "1abc6fe47fb5c4443767a2e2053cf9999c8a9a5c",
        "id": "5AMIMqS6YXMW"
      },
      "cell_type": "code",
      "source": [
        "from sklearn.preprocessing import MinMaxScaler\n",
        "sc = MinMaxScaler(feature_range = (0,1))\n",
        "training_scaled = sc.fit_transform(trainset)"
      ],
      "execution_count": 8,
      "outputs": []
    },
    {
      "metadata": {
        "trusted": true,
        "_uuid": "15362ed79df83c13fbddff1889a71f21e968fbc2",
        "id": "tXxRmKVDYXMX",
        "colab": {
          "base_uri": "https://localhost:8080/",
          "height": 0
        },
        "outputId": "b35e14f4-a683-49bf-a3f0-e181045daab8"
      },
      "cell_type": "code",
      "source": [
        "training_scaled"
      ],
      "execution_count": 9,
      "outputs": [
        {
          "output_type": "execute_result",
          "data": {
            "text/plain": [
              "array([[0.01011148],\n",
              "       [0.01388614],\n",
              "       [0.01690727],\n",
              "       ...,\n",
              "       [0.97543954],\n",
              "       [0.9674549 ],\n",
              "       [0.96072522]])"
            ]
          },
          "metadata": {},
          "execution_count": 9
        }
      ]
    },
    {
      "metadata": {
        "trusted": true,
        "_uuid": "d0d549e9a4af9ab516c3304fb44d650a815dcedc",
        "id": "VgMTczYOYXMX"
      },
      "cell_type": "code",
      "source": [
        "x_train = []\n",
        "y_train = []"
      ],
      "execution_count": 10,
      "outputs": []
    },
    {
      "metadata": {
        "trusted": true,
        "_uuid": "4c4f8ba0c635e7da0ba1bc52abf0a42068acdc89",
        "id": "iadhvdMmYXMX"
      },
      "cell_type": "code",
      "source": [
        "for i in range(60,1259):\n",
        "    x_train.append(training_scaled[i-60:i, 0])\n",
        "    y_train.append(training_scaled[i,0])\n",
        "x_train,y_train = np.array(x_train),np.array(y_train)"
      ],
      "execution_count": 11,
      "outputs": []
    },
    {
      "metadata": {
        "trusted": true,
        "_uuid": "360eb79902c77fbba3f16ab47a5ff7593a177478",
        "id": "o_mbXoOpYXMX",
        "colab": {
          "base_uri": "https://localhost:8080/",
          "height": 0
        },
        "outputId": "0285a683-b5c8-41de-ec1e-52a150a9d1f5"
      },
      "cell_type": "code",
      "source": [
        "x_train.shape"
      ],
      "execution_count": 12,
      "outputs": [
        {
          "output_type": "execute_result",
          "data": {
            "text/plain": [
              "(1199, 60)"
            ]
          },
          "metadata": {},
          "execution_count": 12
        }
      ]
    },
    {
      "metadata": {
        "trusted": true,
        "_uuid": "316c5775b5c0a984b432f138792d2c0e9a484491",
        "id": "boesiCC7YXMX"
      },
      "cell_type": "code",
      "source": [
        "x_train = np.reshape(x_train, (x_train.shape[0],x_train.shape[1],1))"
      ],
      "execution_count": 13,
      "outputs": []
    },
    {
      "metadata": {
        "trusted": true,
        "_uuid": "28f5242c6f1961914d1f568e70228fd30c1cb7fa",
        "id": "6V7HrGorYXMX"
      },
      "cell_type": "code",
      "source": [
        "from keras.models import Sequential\n",
        "from keras.layers import Dense\n",
        "from keras.layers import LSTM\n",
        "from keras.layers import Dropout"
      ],
      "execution_count": 16,
      "outputs": []
    },
    {
      "metadata": {
        "trusted": true,
        "_uuid": "ed24d733423254641f134c0e84f44a8ce175589f",
        "id": "GRTPJQ-YYXMY"
      },
      "cell_type": "code",
      "source": [
        "regressor = Sequential()\n",
        "regressor.add(LSTM(units = 50,return_sequences = True,input_shape = (x_train.shape[1],1)))"
      ],
      "execution_count": 17,
      "outputs": []
    },
    {
      "metadata": {
        "trusted": true,
        "_uuid": "e7b3dd133e58cb2acc860a8cfcd1483ba70e6b1b",
        "id": "97Jzr2OkYXMY"
      },
      "cell_type": "code",
      "source": [
        "regressor.add(Dropout(0.2))"
      ],
      "execution_count": 18,
      "outputs": []
    },
    {
      "metadata": {
        "trusted": true,
        "_uuid": "6b746176cb04357ac1e4c3e4c91ecd70717fed47",
        "id": "wf2-U1yRYXMY"
      },
      "cell_type": "code",
      "source": [
        "regressor.add(LSTM(units = 50,return_sequences = True))\n",
        "regressor.add(Dropout(0.2))"
      ],
      "execution_count": 19,
      "outputs": []
    },
    {
      "metadata": {
        "trusted": true,
        "_uuid": "73fe0b95d62b599e8aae4e2a53a10bc7165f464c",
        "id": "WL3Zs85pYXMY"
      },
      "cell_type": "code",
      "source": [
        "regressor.add(LSTM(units = 50,return_sequences = True))\n",
        "regressor.add(Dropout(0.2))"
      ],
      "execution_count": 20,
      "outputs": []
    },
    {
      "cell_type": "code",
      "source": [
        "regressor.add(LSTM(units = 50,return_sequences = True))\n",
        "regressor.add(Dropout(0.2))"
      ],
      "metadata": {
        "id": "udXQau5-iu-8"
      },
      "execution_count": 21,
      "outputs": []
    },
    {
      "metadata": {
        "trusted": true,
        "_uuid": "8c81a80d2ea3cdf653675def0bbba5f9572e8770",
        "id": "TSG6Iy25YXMY"
      },
      "cell_type": "code",
      "source": [
        "regressor.add(LSTM(units = 50))\n",
        "regressor.add(Dropout(0.2))"
      ],
      "execution_count": 22,
      "outputs": []
    },
    {
      "metadata": {
        "trusted": true,
        "_uuid": "2edc2684995e0033ae8a4997b61b92a66c5bceee",
        "id": "UOOqbKIJYXMY"
      },
      "cell_type": "code",
      "source": [
        "regressor.add(Dense(units = 1))"
      ],
      "execution_count": 23,
      "outputs": []
    },
    {
      "metadata": {
        "trusted": true,
        "_uuid": "6681ff55d9a29b1ad0f37cdc82318fb2c8fbc0bd",
        "id": "Aou2FjVuYXMY"
      },
      "cell_type": "code",
      "source": [
        "regressor.compile(optimizer = 'adam', loss = 'mean_squared_error')"
      ],
      "execution_count": 24,
      "outputs": []
    },
    {
      "cell_type": "code",
      "source": [
        "# regressor.compile(optimizer='adam',\n",
        "#               loss=tf.keras.losses.SparseCategoricalCrossentropy(from_logits=True),\n",
        "#               metrics=['accuracy'])"
      ],
      "metadata": {
        "id": "otnUOVS4czl6"
      },
      "execution_count": null,
      "outputs": []
    },
    {
      "cell_type": "code",
      "source": [
        "regressor.fit(x_train,y_train,epochs = 10, batch_size = 32)"
      ],
      "metadata": {
        "id": "91PsdUgkjtQY",
        "colab": {
          "base_uri": "https://localhost:8080/",
          "height": 0
        },
        "outputId": "17a05597-e97a-4c64-fd35-429148453f1a"
      },
      "execution_count": 25,
      "outputs": [
        {
          "output_type": "stream",
          "name": "stdout",
          "text": [
            "Epoch 1/10\n",
            "38/38 [==============================] - 19s 163ms/step - loss: 0.0290\n",
            "Epoch 2/10\n",
            "38/38 [==============================] - 6s 154ms/step - loss: 0.0051\n",
            "Epoch 3/10\n",
            "38/38 [==============================] - 7s 188ms/step - loss: 0.0051\n",
            "Epoch 4/10\n",
            "38/38 [==============================] - 6s 148ms/step - loss: 0.0042\n",
            "Epoch 5/10\n",
            "38/38 [==============================] - 7s 197ms/step - loss: 0.0040\n",
            "Epoch 6/10\n",
            "38/38 [==============================] - 6s 158ms/step - loss: 0.0041\n",
            "Epoch 7/10\n",
            "38/38 [==============================] - 8s 206ms/step - loss: 0.0038\n",
            "Epoch 8/10\n",
            "38/38 [==============================] - 7s 177ms/step - loss: 0.0034\n",
            "Epoch 9/10\n",
            "38/38 [==============================] - 8s 214ms/step - loss: 0.0037\n",
            "Epoch 10/10\n",
            "38/38 [==============================] - 6s 151ms/step - loss: 0.0037\n"
          ]
        },
        {
          "output_type": "execute_result",
          "data": {
            "text/plain": [
              "<keras.callbacks.History at 0x7f45851ea6e0>"
            ]
          },
          "metadata": {},
          "execution_count": 25
        }
      ]
    },
    {
      "metadata": {
        "trusted": true,
        "_uuid": "b0287226b32109016b659a8ba484b5eb51e0d61a",
        "id": "ZNK5B5RsYXMY"
      },
      "cell_type": "code",
      "source": [
        "#old\n",
        "# regressor.fit(x_train,y_train,epochs = 10, batch_size = 32)"
      ],
      "execution_count": 27,
      "outputs": []
    },
    {
      "metadata": {
        "trusted": true,
        "_uuid": "16e063f81273faee696d9db103673ad2b88fda50",
        "id": "vdr6LSSiYXMZ"
      },
      "cell_type": "code",
      "source": [
        "dataset_test =pd.read_csv(\"/content/drive/MyDrive/testdata\")"
      ],
      "execution_count": 28,
      "outputs": []
    },
    {
      "metadata": {
        "trusted": true,
        "_uuid": "6acd6a66dc0f9c013ea008c0d99734697757cae6",
        "id": "X2yPEy5YYXMZ"
      },
      "cell_type": "code",
      "source": [
        "real_stock_price = dataset_test.iloc[:,1:2].values"
      ],
      "execution_count": 29,
      "outputs": []
    },
    {
      "metadata": {
        "trusted": true,
        "_uuid": "b65a0a5b78f98a5ac13dee98e9738fd61426bfd0",
        "id": "qs9Ail8LYXMZ",
        "colab": {
          "base_uri": "https://localhost:8080/",
          "height": 0
        },
        "outputId": "2aac5773-7636-4219-d92f-1754000c6c9b"
      },
      "cell_type": "code",
      "source": [
        "dataset_total = pd.concat((dataset_train['Open'],dataset_test['Open']),axis = 0)\n",
        "dataset_total"
      ],
      "execution_count": 30,
      "outputs": [
        {
          "output_type": "execute_result",
          "data": {
            "text/plain": [
              "0       357.385559\n",
              "1       360.122742\n",
              "2       362.313507\n",
              "3       365.348755\n",
              "4       365.393463\n",
              "          ...     \n",
              "120    1143.599976\n",
              "121    1128.000000\n",
              "122    1121.339966\n",
              "123    1102.089966\n",
              "124    1120.000000\n",
              "Name: Open, Length: 1384, dtype: float64"
            ]
          },
          "metadata": {},
          "execution_count": 30
        }
      ]
    },
    {
      "metadata": {
        "trusted": true,
        "_uuid": "31aa33ed70b08e71d0e8bfe4c1abae7901ab947d",
        "id": "YmRNOFhIYXMZ",
        "colab": {
          "base_uri": "https://localhost:8080/",
          "height": 0
        },
        "outputId": "72c99082-a0b4-4472-a412-e17dd11a185d"
      },
      "cell_type": "code",
      "source": [
        "inputs = dataset_total[len(dataset_total) - len(dataset_test)-60:].values\n",
        "inputs"
      ],
      "execution_count": 31,
      "outputs": [
        {
          "output_type": "execute_result",
          "data": {
            "text/plain": [
              "array([ 955.48999 ,  966.700012,  980.      ,  980.      ,  973.719971,\n",
              "        987.450012,  992.      ,  992.099976,  990.289978,  991.77002 ,\n",
              "        986.      ,  989.440002,  989.52002 ,  970.      ,  968.369995,\n",
              "        980.      , 1009.190002, 1014.      , 1015.219971, 1017.210022,\n",
              "       1021.76001 , 1022.109985, 1028.98999 , 1027.27002 , 1030.52002 ,\n",
              "       1033.98999 , 1026.459961, 1023.419983, 1022.590027, 1019.210022,\n",
              "       1022.52002 , 1034.01001 , 1020.26001 , 1023.309998, 1035.      ,\n",
              "       1035.869995, 1040.      , 1055.089966, 1042.680054, 1022.369995,\n",
              "       1015.799988, 1012.659973,  995.940002, 1001.5     , 1020.429993,\n",
              "       1037.48999 , 1035.5     , 1039.630005, 1046.119995, 1045.      ,\n",
              "       1054.609985, 1066.079956, 1075.199951, 1071.780029, 1064.949951,\n",
              "       1061.109985, 1058.069946, 1057.390015, 1051.599976, 1046.719971,\n",
              "       1048.339966, 1064.310059, 1088.      , 1094.      , 1102.22998 ,\n",
              "       1109.400024, 1097.099976, 1106.300049, 1102.410034, 1132.51001 ,\n",
              "       1126.219971, 1131.410034, 1131.829956, 1137.48999 , 1159.849976,\n",
              "       1177.329956, 1172.530029, 1175.079956, 1176.47998 , 1167.829956,\n",
              "       1170.569946, 1162.609985, 1122.      , 1090.599976, 1027.180054,\n",
              "       1081.540039, 1055.410034, 1017.25    , 1048.      , 1045.      ,\n",
              "       1048.949951, 1079.069946, 1088.410034, 1090.569946, 1106.469971,\n",
              "       1116.189941, 1112.640015, 1127.800049, 1141.23999 , 1123.030029,\n",
              "       1107.869995, 1053.079956, 1075.140015, 1099.219971, 1089.189941,\n",
              "       1115.319946, 1136.      , 1163.849976, 1170.      , 1145.209961,\n",
              "       1149.959961, 1154.140015, 1120.01001 , 1099.      , 1092.73999 ,\n",
              "       1081.880005, 1047.030029, 1046.      , 1063.      ,  998.      ,\n",
              "       1011.630005, 1022.820007, 1013.909973,  993.409973, 1041.329956,\n",
              "       1020.      , 1016.799988, 1026.439941, 1027.98999 , 1025.040039,\n",
              "       1040.880005, 1037.      , 1051.369995, 1077.430054, 1069.400024,\n",
              "       1082.      , 1077.859985, 1052.      , 1025.52002 , 1029.51001 ,\n",
              "       1046.      , 1030.01001 , 1013.659973, 1028.099976, 1019.      ,\n",
              "       1016.900024, 1049.22998 , 1058.540039, 1058.099976, 1086.030029,\n",
              "       1093.599976, 1100.      , 1090.      , 1077.310059, 1079.890015,\n",
              "       1061.859985, 1074.060059, 1083.560059, 1065.130005, 1079.      ,\n",
              "       1079.02002 , 1064.890015, 1063.030029, 1067.560059, 1099.349976,\n",
              "       1122.329956, 1140.98999 , 1142.170044, 1131.319946, 1118.180054,\n",
              "       1118.599976, 1131.069946, 1141.119995, 1143.849976, 1148.859985,\n",
              "       1143.650024, 1158.5     , 1175.310059, 1174.849976, 1159.140015,\n",
              "       1143.599976, 1128.      , 1121.339966, 1102.089966, 1120.      ])"
            ]
          },
          "metadata": {},
          "execution_count": 31
        }
      ]
    },
    {
      "metadata": {
        "trusted": true,
        "_uuid": "7d74568c439acc8dda77dc4365d4b413095508e1",
        "id": "MP1nWNPZYXMZ"
      },
      "cell_type": "code",
      "source": [
        "inputs = inputs.reshape(-1,1)"
      ],
      "execution_count": 32,
      "outputs": []
    },
    {
      "metadata": {
        "trusted": true,
        "_uuid": "17b170e861d1353ece8aec66f700886106da4aef",
        "id": "livn3sRUYXMZ",
        "colab": {
          "base_uri": "https://localhost:8080/",
          "height": 0
        },
        "outputId": "1fc0b8df-6570-4072-9c8d-4910e2e3a5dc"
      },
      "cell_type": "code",
      "source": [
        "inputs"
      ],
      "execution_count": 33,
      "outputs": [
        {
          "output_type": "execute_result",
          "data": {
            "text/plain": [
              "array([[ 955.48999 ],\n",
              "       [ 966.700012],\n",
              "       [ 980.      ],\n",
              "       [ 980.      ],\n",
              "       [ 973.719971],\n",
              "       [ 987.450012],\n",
              "       [ 992.      ],\n",
              "       [ 992.099976],\n",
              "       [ 990.289978],\n",
              "       [ 991.77002 ],\n",
              "       [ 986.      ],\n",
              "       [ 989.440002],\n",
              "       [ 989.52002 ],\n",
              "       [ 970.      ],\n",
              "       [ 968.369995],\n",
              "       [ 980.      ],\n",
              "       [1009.190002],\n",
              "       [1014.      ],\n",
              "       [1015.219971],\n",
              "       [1017.210022],\n",
              "       [1021.76001 ],\n",
              "       [1022.109985],\n",
              "       [1028.98999 ],\n",
              "       [1027.27002 ],\n",
              "       [1030.52002 ],\n",
              "       [1033.98999 ],\n",
              "       [1026.459961],\n",
              "       [1023.419983],\n",
              "       [1022.590027],\n",
              "       [1019.210022],\n",
              "       [1022.52002 ],\n",
              "       [1034.01001 ],\n",
              "       [1020.26001 ],\n",
              "       [1023.309998],\n",
              "       [1035.      ],\n",
              "       [1035.869995],\n",
              "       [1040.      ],\n",
              "       [1055.089966],\n",
              "       [1042.680054],\n",
              "       [1022.369995],\n",
              "       [1015.799988],\n",
              "       [1012.659973],\n",
              "       [ 995.940002],\n",
              "       [1001.5     ],\n",
              "       [1020.429993],\n",
              "       [1037.48999 ],\n",
              "       [1035.5     ],\n",
              "       [1039.630005],\n",
              "       [1046.119995],\n",
              "       [1045.      ],\n",
              "       [1054.609985],\n",
              "       [1066.079956],\n",
              "       [1075.199951],\n",
              "       [1071.780029],\n",
              "       [1064.949951],\n",
              "       [1061.109985],\n",
              "       [1058.069946],\n",
              "       [1057.390015],\n",
              "       [1051.599976],\n",
              "       [1046.719971],\n",
              "       [1048.339966],\n",
              "       [1064.310059],\n",
              "       [1088.      ],\n",
              "       [1094.      ],\n",
              "       [1102.22998 ],\n",
              "       [1109.400024],\n",
              "       [1097.099976],\n",
              "       [1106.300049],\n",
              "       [1102.410034],\n",
              "       [1132.51001 ],\n",
              "       [1126.219971],\n",
              "       [1131.410034],\n",
              "       [1131.829956],\n",
              "       [1137.48999 ],\n",
              "       [1159.849976],\n",
              "       [1177.329956],\n",
              "       [1172.530029],\n",
              "       [1175.079956],\n",
              "       [1176.47998 ],\n",
              "       [1167.829956],\n",
              "       [1170.569946],\n",
              "       [1162.609985],\n",
              "       [1122.      ],\n",
              "       [1090.599976],\n",
              "       [1027.180054],\n",
              "       [1081.540039],\n",
              "       [1055.410034],\n",
              "       [1017.25    ],\n",
              "       [1048.      ],\n",
              "       [1045.      ],\n",
              "       [1048.949951],\n",
              "       [1079.069946],\n",
              "       [1088.410034],\n",
              "       [1090.569946],\n",
              "       [1106.469971],\n",
              "       [1116.189941],\n",
              "       [1112.640015],\n",
              "       [1127.800049],\n",
              "       [1141.23999 ],\n",
              "       [1123.030029],\n",
              "       [1107.869995],\n",
              "       [1053.079956],\n",
              "       [1075.140015],\n",
              "       [1099.219971],\n",
              "       [1089.189941],\n",
              "       [1115.319946],\n",
              "       [1136.      ],\n",
              "       [1163.849976],\n",
              "       [1170.      ],\n",
              "       [1145.209961],\n",
              "       [1149.959961],\n",
              "       [1154.140015],\n",
              "       [1120.01001 ],\n",
              "       [1099.      ],\n",
              "       [1092.73999 ],\n",
              "       [1081.880005],\n",
              "       [1047.030029],\n",
              "       [1046.      ],\n",
              "       [1063.      ],\n",
              "       [ 998.      ],\n",
              "       [1011.630005],\n",
              "       [1022.820007],\n",
              "       [1013.909973],\n",
              "       [ 993.409973],\n",
              "       [1041.329956],\n",
              "       [1020.      ],\n",
              "       [1016.799988],\n",
              "       [1026.439941],\n",
              "       [1027.98999 ],\n",
              "       [1025.040039],\n",
              "       [1040.880005],\n",
              "       [1037.      ],\n",
              "       [1051.369995],\n",
              "       [1077.430054],\n",
              "       [1069.400024],\n",
              "       [1082.      ],\n",
              "       [1077.859985],\n",
              "       [1052.      ],\n",
              "       [1025.52002 ],\n",
              "       [1029.51001 ],\n",
              "       [1046.      ],\n",
              "       [1030.01001 ],\n",
              "       [1013.659973],\n",
              "       [1028.099976],\n",
              "       [1019.      ],\n",
              "       [1016.900024],\n",
              "       [1049.22998 ],\n",
              "       [1058.540039],\n",
              "       [1058.099976],\n",
              "       [1086.030029],\n",
              "       [1093.599976],\n",
              "       [1100.      ],\n",
              "       [1090.      ],\n",
              "       [1077.310059],\n",
              "       [1079.890015],\n",
              "       [1061.859985],\n",
              "       [1074.060059],\n",
              "       [1083.560059],\n",
              "       [1065.130005],\n",
              "       [1079.      ],\n",
              "       [1079.02002 ],\n",
              "       [1064.890015],\n",
              "       [1063.030029],\n",
              "       [1067.560059],\n",
              "       [1099.349976],\n",
              "       [1122.329956],\n",
              "       [1140.98999 ],\n",
              "       [1142.170044],\n",
              "       [1131.319946],\n",
              "       [1118.180054],\n",
              "       [1118.599976],\n",
              "       [1131.069946],\n",
              "       [1141.119995],\n",
              "       [1143.849976],\n",
              "       [1148.859985],\n",
              "       [1143.650024],\n",
              "       [1158.5     ],\n",
              "       [1175.310059],\n",
              "       [1174.849976],\n",
              "       [1159.140015],\n",
              "       [1143.599976],\n",
              "       [1128.      ],\n",
              "       [1121.339966],\n",
              "       [1102.089966],\n",
              "       [1120.      ]])"
            ]
          },
          "metadata": {},
          "execution_count": 33
        }
      ]
    },
    {
      "metadata": {
        "trusted": true,
        "_uuid": "b4003370fb6454d0493ef80b1b50ea34061de7bc",
        "id": "S-1PfMNeYXMZ",
        "colab": {
          "base_uri": "https://localhost:8080/",
          "height": 0
        },
        "outputId": "28cd9d3b-7f3e-408f-f5b7-9da951d5f587"
      },
      "cell_type": "code",
      "source": [
        "inputs = sc.transform(inputs)\n",
        "inputs.shape"
      ],
      "execution_count": 34,
      "outputs": [
        {
          "output_type": "execute_result",
          "data": {
            "text/plain": [
              "(185, 1)"
            ]
          },
          "metadata": {},
          "execution_count": 34
        }
      ]
    },
    {
      "metadata": {
        "trusted": true,
        "_uuid": "ef076f0fdbe6ec72d85e7326c3e8aa73fcbad667",
        "id": "NMdl5twNYXMa"
      },
      "cell_type": "code",
      "source": [
        "x_test = []\n",
        "for i in range(60,185):\n",
        "    x_test.append(inputs[i-60:i,0])"
      ],
      "execution_count": 35,
      "outputs": []
    },
    {
      "metadata": {
        "trusted": true,
        "_uuid": "1fa15b6bb87ff2da8a730a6e1de20d5e5baf1571",
        "id": "rGljcm2MYXMa",
        "colab": {
          "base_uri": "https://localhost:8080/",
          "height": 0
        },
        "outputId": "a611ef01-ec9e-49d3-e6ea-a746f17b1eea"
      },
      "cell_type": "code",
      "source": [
        "x_test = np.array(x_test)\n",
        "x_test.shape"
      ],
      "execution_count": 36,
      "outputs": [
        {
          "output_type": "execute_result",
          "data": {
            "text/plain": [
              "(125, 60)"
            ]
          },
          "metadata": {},
          "execution_count": 36
        }
      ]
    },
    {
      "metadata": {
        "trusted": true,
        "_uuid": "b244d0115671f29d46d2cb290f92e6a0fe38bc1d",
        "id": "qyzUeyDjYXMa",
        "colab": {
          "base_uri": "https://localhost:8080/",
          "height": 0
        },
        "outputId": "f810c593-bc6f-4f67-db03-24d9e49442f3"
      },
      "cell_type": "code",
      "source": [
        "x_test = np.reshape(x_test, (x_test.shape[0],x_test.shape[1],1))\n",
        "x_test.shape"
      ],
      "execution_count": 37,
      "outputs": [
        {
          "output_type": "execute_result",
          "data": {
            "text/plain": [
              "(125, 60, 1)"
            ]
          },
          "metadata": {},
          "execution_count": 37
        }
      ]
    },
    {
      "metadata": {
        "trusted": true,
        "_uuid": "24730042bdad3a140e033a78ae9b170304f8cefb",
        "id": "AGNhUNrJYXMa",
        "colab": {
          "base_uri": "https://localhost:8080/",
          "height": 0
        },
        "outputId": "af8944e5-09e5-498c-d8aa-7432e963e5fd"
      },
      "cell_type": "code",
      "source": [
        "predicted_price = regressor.predict(x_test)"
      ],
      "execution_count": 38,
      "outputs": [
        {
          "output_type": "stream",
          "name": "stdout",
          "text": [
            "4/4 [==============================] - 3s 39ms/step\n"
          ]
        }
      ]
    },
    {
      "metadata": {
        "trusted": true,
        "_uuid": "4b06462fa06e7399373d8a552cd159176fbeef33",
        "id": "teRrrJWcYXMa",
        "colab": {
          "base_uri": "https://localhost:8080/",
          "height": 0
        },
        "outputId": "91f89706-3058-4333-fbab-372e28ca64be"
      },
      "cell_type": "code",
      "source": [
        "predicted_price = sc.inverse_transform(predicted_price)\n",
        "predicted_price"
      ],
      "execution_count": 39,
      "outputs": [
        {
          "output_type": "execute_result",
          "data": {
            "text/plain": [
              "array([[1082.7699],\n",
              "       [1085.2659],\n",
              "       [1087.6667],\n",
              "       [1089.9358],\n",
              "       [1092.087 ],\n",
              "       [1094.175 ],\n",
              "       [1096.2784],\n",
              "       [1098.4734],\n",
              "       [1100.822 ],\n",
              "       [1103.3624],\n",
              "       [1106.1316],\n",
              "       [1109.1573],\n",
              "       [1112.4543],\n",
              "       [1116.0214],\n",
              "       [1119.8448],\n",
              "       [1123.9133],\n",
              "       [1128.2339],\n",
              "       [1132.8154],\n",
              "       [1137.6627],\n",
              "       [1142.763 ],\n",
              "       [1148.0751],\n",
              "       [1153.5355],\n",
              "       [1159.056 ],\n",
              "       [1164.4971],\n",
              "       [1169.6602],\n",
              "       [1174.2638],\n",
              "       [1178.045 ],\n",
              "       [1180.7787],\n",
              "       [1182.2684],\n",
              "       [1182.3955],\n",
              "       [1181.129 ],\n",
              "       [1178.5233],\n",
              "       [1174.7333],\n",
              "       [1170.0007],\n",
              "       [1164.618 ],\n",
              "       [1158.9102],\n",
              "       [1153.2119],\n",
              "       [1147.8301],\n",
              "       [1143.0326],\n",
              "       [1139.0483],\n",
              "       [1136.0295],\n",
              "       [1134.0323],\n",
              "       [1132.9775],\n",
              "       [1132.7006],\n",
              "       [1133.0107],\n",
              "       [1133.7168],\n",
              "       [1134.6693],\n",
              "       [1135.7861],\n",
              "       [1137.0623],\n",
              "       [1138.5548],\n",
              "       [1140.3274],\n",
              "       [1142.427 ],\n",
              "       [1144.8783],\n",
              "       [1147.647 ],\n",
              "       [1150.6284],\n",
              "       [1153.6642],\n",
              "       [1156.5629],\n",
              "       [1159.1013],\n",
              "       [1161.0571],\n",
              "       [1162.2555],\n",
              "       [1162.5295],\n",
              "       [1161.749 ],\n",
              "       [1159.8478],\n",
              "       [1156.8242],\n",
              "       [1152.7214],\n",
              "       [1147.6603],\n",
              "       [1141.8125],\n",
              "       [1135.3782],\n",
              "       [1128.5701],\n",
              "       [1121.6091],\n",
              "       [1114.6979],\n",
              "       [1108.0349],\n",
              "       [1101.7905],\n",
              "       [1096.1155],\n",
              "       [1091.1565],\n",
              "       [1087.0355],\n",
              "       [1083.852 ],\n",
              "       [1081.6665],\n",
              "       [1080.4666],\n",
              "       [1080.1487],\n",
              "       [1080.5443],\n",
              "       [1081.462 ],\n",
              "       [1082.7035],\n",
              "       [1084.0665],\n",
              "       [1085.3704],\n",
              "       [1086.4694],\n",
              "       [1087.2389],\n",
              "       [1087.6438],\n",
              "       [1087.7107],\n",
              "       [1087.5099],\n",
              "       [1087.1765],\n",
              "       [1086.8759],\n",
              "       [1086.7823],\n",
              "       [1087.0504],\n",
              "       [1087.7771],\n",
              "       [1088.9979],\n",
              "       [1090.6818],\n",
              "       [1092.7537],\n",
              "       [1095.12  ],\n",
              "       [1097.6708],\n",
              "       [1100.3029],\n",
              "       [1102.9246],\n",
              "       [1105.4525],\n",
              "       [1107.7994],\n",
              "       [1109.9019],\n",
              "       [1111.7477],\n",
              "       [1113.383 ],\n",
              "       [1114.9199],\n",
              "       [1116.5032],\n",
              "       [1118.2727],\n",
              "       [1120.3252],\n",
              "       [1122.6997],\n",
              "       [1125.4008],\n",
              "       [1128.4154],\n",
              "       [1131.712 ],\n",
              "       [1135.2533],\n",
              "       [1138.9926],\n",
              "       [1142.8882],\n",
              "       [1146.9124],\n",
              "       [1151.0508],\n",
              "       [1155.2863],\n",
              "       [1159.5571],\n",
              "       [1163.7715],\n",
              "       [1167.8088],\n",
              "       [1171.5226]], dtype=float32)"
            ]
          },
          "metadata": {},
          "execution_count": 39
        }
      ]
    },
    {
      "cell_type": "code",
      "source": [
        "plt.plot(real_stock_price,color = 'red', label = 'Real Price')\n",
        "plt.plot(predicted_price, color = 'blue', label = 'Predicted Price')\n",
        "plt.title('Google Stock Price Prediction')\n",
        "plt.xlabel('Time')\n",
        "plt.ylabel('Google Stock Price')\n",
        "plt.legend()\n",
        "plt.show()"
      ],
      "metadata": {
        "id": "YTQjSl58k5mr",
        "colab": {
          "base_uri": "https://localhost:8080/",
          "height": 472
        },
        "outputId": "53c89a3a-ec04-411b-8867-9d67727c4725"
      },
      "execution_count": 40,
      "outputs": [
        {
          "output_type": "display_data",
          "data": {
            "text/plain": [
              "<Figure size 640x480 with 1 Axes>"
            ],
            "image/png": "[encoded data removed]"
          },
          "metadata": {}
        }
      ]
    },
    {
      "metadata": {
        "trusted": true,
        "_uuid": "e8b30d578fafb1564da4448efb1f994537f6f588",
        "id": "5bTz9NkpYXMa"
      },
      "cell_type": "code",
      "source": [
        "#old\n",
        "plt.plot(real_stock_price,color = 'red', label = 'Real Price')\n",
        "plt.plot(predicted_price, color = 'blue', label = 'Predicted Price')\n",
        "plt.title('Google Stock Price Prediction')\n",
        "plt.xlabel('Time')\n",
        "plt.ylabel('Google Stock Price')\n",
        "plt.legend()\n",
        "plt.show()"
      ],
      "execution_count": null,
      "outputs": []
    }
  ],
  "metadata": {
    "kernelspec": {
      "display_name": "Python 3",
      "language": "python",
      "name": "python3"
    },
    "language_info": {
      "name": "python",
      "version": "3.6.6",
      "mimetype": "text/x-python",
      "codemirror_mode": {
        "name": "ipython",
        "version": 3
      },
      "pygments_lexer": "ipython3",
      "nbconvert_exporter": "python",
      "file_extension": ".py"
    },
    "colab": {
      "provenance": []
    }
  },
  "nbformat": 4,
  "nbformat_minor": 0
}